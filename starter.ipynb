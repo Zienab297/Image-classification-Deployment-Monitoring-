{
 "cells": [
  {
   "cell_type": "markdown",
   "metadata": {},
   "source": [
    "# Deploy and monitor a machine learning workflow for Image Classification"
   ]
  },
  {
   "cell_type": "markdown",
   "metadata": {},
   "source": [
    "## Setting up this notebook\n",
    "\n",
    "Notes about the instance size and kernel setup: this notebook has been tested on\n",
    "\n",
    "1. The `Python 3 (Data Science)` kernel\n",
    "2. The `ml.t3.medium` Sagemaker notebook instance\n",
    "\n",
    "## Data Staging\n",
    "\n",
    "We'll use a sample dataset called CIFAR to simulate the challenges Scones Unlimited are facing in Image Classification. In order to start working with CIFAR we'll need to:\n",
    "\n",
    "1. Extract the data from a hosting service\n",
    "2. Transform it into a usable shape and format\n",
    "3. Load it into a production system\n",
    "\n",
    "In other words, we're going to do some simple ETL!\n",
    "\n",
    "### 1. Extract the data from the hosting service\n",
    "\n",
    "In the cell below, define a function `extract_cifar_data` that extracts python version of the CIFAR-100 dataset. The CIFAR dataaset is open source and generously hosted by the University of Toronto at: https://www.cs.toronto.edu/~kriz/cifar-100-python.tar.gz "
   ]
  },
  {
   "cell_type": "code",
   "execution_count": 1,
   "metadata": {
    "execution": {
     "iopub.execute_input": "2025-08-19T21:50:08.547904Z",
     "iopub.status.busy": "2025-08-19T21:50:08.547579Z",
     "iopub.status.idle": "2025-08-19T21:50:08.624450Z",
     "shell.execute_reply": "2025-08-19T21:50:08.623675Z",
     "shell.execute_reply.started": "2025-08-19T21:50:08.547879Z"
    }
   },
   "outputs": [],
   "source": [
    "import requests\n",
    "\n",
    "def extract_cifar_data(url, filename=\"cifar.tar.gz\"):\n",
    "    \"\"\"A function for extracting the CIFAR-100 dataset and storing it as a gzipped file\n",
    "    \n",
    "    Arguments:\n",
    "    url      -- the URL where the dataset is hosted\n",
    "    filename -- the full path where the dataset will be written\n",
    "    \n",
    "    \"\"\"\n",
    "    \n",
    "    # Todo: request the data from the data url\n",
    "    # Hint: use `requests.get` method\n",
    "    r = requests.get(url)\n",
    "    with open(filename, \"wb\") as file_context:\n",
    "        file_context.write(r.content)\n",
    "    return"
   ]
  },
  {
   "cell_type": "markdown",
   "metadata": {},
   "source": [
    "Let's test it out! Run the following cell and check whether a new file `cifar.tar.gz` is created in the file explorer."
   ]
  },
  {
   "cell_type": "code",
   "execution_count": 2,
   "metadata": {
    "execution": {
     "iopub.execute_input": "2025-08-19T21:50:10.697556Z",
     "iopub.status.busy": "2025-08-19T21:50:10.697176Z",
     "iopub.status.idle": "2025-08-19T21:50:12.695777Z",
     "shell.execute_reply": "2025-08-19T21:50:12.694895Z",
     "shell.execute_reply.started": "2025-08-19T21:50:10.697527Z"
    }
   },
   "outputs": [],
   "source": [
    "extract_cifar_data(\"https://www.cs.toronto.edu/~kriz/cifar-100-python.tar.gz\")     "
   ]
  },
  {
   "cell_type": "markdown",
   "metadata": {},
   "source": [
    "### 2. Transform the data into a usable shape and format\n",
    "\n",
    "Clearly, distributing the data as a gzipped archive makes sense for the hosting service! It saves on bandwidth, storage, and it's a widely-used archive format. In fact, it's so widely used that the Python community ships a utility for working with them, `tarfile`, as part of its Standard Library. Execute the following cell to decompress your extracted dataset:"
   ]
  },
  {
   "cell_type": "code",
   "execution_count": 3,
   "metadata": {
    "execution": {
     "iopub.execute_input": "2025-08-19T21:50:20.301434Z",
     "iopub.status.busy": "2025-08-19T21:50:20.301070Z",
     "iopub.status.idle": "2025-08-19T21:50:21.597223Z",
     "shell.execute_reply": "2025-08-19T21:50:21.596558Z",
     "shell.execute_reply.started": "2025-08-19T21:50:20.301406Z"
    }
   },
   "outputs": [
    {
     "name": "stderr",
     "output_type": "stream",
     "text": [
      "/tmp/ipykernel_317/4281747999.py:4: DeprecationWarning: Python 3.14 will, by default, filter extracted tar archives and reject files or modify their metadata. Use the filter argument to control this behavior.\n",
      "  tar.extractall()\n"
     ]
    }
   ],
   "source": [
    "import tarfile\n",
    "\n",
    "with tarfile.open(\"cifar.tar.gz\", \"r:gz\") as tar:\n",
    "    tar.extractall()"
   ]
  },
  {
   "cell_type": "markdown",
   "metadata": {},
   "source": [
    "A new folder `cifar-100-python` should be created, containing `meta`, `test`, and `train` files. These files are `pickles` and the [CIFAR homepage](https://www.cs.toronto.edu/~kriz/cifar.html) provides a simple script that can be used to load them. We've adapted the script below for you to run:"
   ]
  },
  {
   "cell_type": "code",
   "execution_count": 4,
   "metadata": {
    "execution": {
     "iopub.execute_input": "2025-08-19T21:50:26.210015Z",
     "iopub.status.busy": "2025-08-19T21:50:26.209350Z",
     "iopub.status.idle": "2025-08-19T21:50:26.640074Z",
     "shell.execute_reply": "2025-08-19T21:50:26.639236Z",
     "shell.execute_reply.started": "2025-08-19T21:50:26.209984Z"
    }
   },
   "outputs": [],
   "source": [
    "import pickle\n",
    "\n",
    "with open(\"./cifar-100-python/meta\", \"rb\") as f:\n",
    "    dataset_meta = pickle.load(f, encoding='bytes')\n",
    "\n",
    "with open(\"./cifar-100-python/test\", \"rb\") as f:\n",
    "    dataset_test = pickle.load(f, encoding='bytes')\n",
    "\n",
    "with open(\"./cifar-100-python/train\", \"rb\") as f:\n",
    "    dataset_train = pickle.load(f, encoding='bytes')"
   ]
  },
  {
   "cell_type": "code",
   "execution_count": 5,
   "metadata": {
    "execution": {
     "iopub.execute_input": "2025-08-19T21:50:30.941673Z",
     "iopub.status.busy": "2025-08-19T21:50:30.941325Z",
     "iopub.status.idle": "2025-08-19T21:50:30.948841Z",
     "shell.execute_reply": "2025-08-19T21:50:30.948020Z",
     "shell.execute_reply.started": "2025-08-19T21:50:30.941649Z"
    }
   },
   "outputs": [
    {
     "data": {
      "text/plain": [
       "dict_keys([b'filenames', b'batch_label', b'fine_labels', b'coarse_labels', b'data'])"
      ]
     },
     "execution_count": 5,
     "metadata": {},
     "output_type": "execute_result"
    }
   ],
   "source": [
    "# Feel free to explore the datasets\n",
    "\n",
    "dataset_train.keys()"
   ]
  },
  {
   "cell_type": "code",
   "execution_count": 6,
   "metadata": {
    "execution": {
     "iopub.execute_input": "2025-08-19T21:50:33.056457Z",
     "iopub.status.busy": "2025-08-19T21:50:33.056184Z",
     "iopub.status.idle": "2025-08-19T21:50:33.061173Z",
     "shell.execute_reply": "2025-08-19T21:50:33.060258Z",
     "shell.execute_reply.started": "2025-08-19T21:50:33.056436Z"
    }
   },
   "outputs": [
    {
     "data": {
      "text/plain": [
       "dict_keys([b'fine_label_names', b'coarse_label_names'])"
      ]
     },
     "execution_count": 6,
     "metadata": {},
     "output_type": "execute_result"
    }
   ],
   "source": [
    "dataset_meta.keys()"
   ]
  },
  {
   "cell_type": "code",
   "execution_count": 7,
   "metadata": {
    "execution": {
     "iopub.execute_input": "2025-08-19T21:50:33.685529Z",
     "iopub.status.busy": "2025-08-19T21:50:33.685166Z",
     "iopub.status.idle": "2025-08-19T21:50:33.690236Z",
     "shell.execute_reply": "2025-08-19T21:50:33.689489Z",
     "shell.execute_reply.started": "2025-08-19T21:50:33.685504Z"
    }
   },
   "outputs": [
    {
     "data": {
      "text/plain": [
       "dict_values([[b'apple', b'aquarium_fish', b'baby', b'bear', b'beaver', b'bed', b'bee', b'beetle', b'bicycle', b'bottle', b'bowl', b'boy', b'bridge', b'bus', b'butterfly', b'camel', b'can', b'castle', b'caterpillar', b'cattle', b'chair', b'chimpanzee', b'clock', b'cloud', b'cockroach', b'couch', b'crab', b'crocodile', b'cup', b'dinosaur', b'dolphin', b'elephant', b'flatfish', b'forest', b'fox', b'girl', b'hamster', b'house', b'kangaroo', b'keyboard', b'lamp', b'lawn_mower', b'leopard', b'lion', b'lizard', b'lobster', b'man', b'maple_tree', b'motorcycle', b'mountain', b'mouse', b'mushroom', b'oak_tree', b'orange', b'orchid', b'otter', b'palm_tree', b'pear', b'pickup_truck', b'pine_tree', b'plain', b'plate', b'poppy', b'porcupine', b'possum', b'rabbit', b'raccoon', b'ray', b'road', b'rocket', b'rose', b'sea', b'seal', b'shark', b'shrew', b'skunk', b'skyscraper', b'snail', b'snake', b'spider', b'squirrel', b'streetcar', b'sunflower', b'sweet_pepper', b'table', b'tank', b'telephone', b'television', b'tiger', b'tractor', b'train', b'trout', b'tulip', b'turtle', b'wardrobe', b'whale', b'willow_tree', b'wolf', b'woman', b'worm'], [b'aquatic_mammals', b'fish', b'flowers', b'food_containers', b'fruit_and_vegetables', b'household_electrical_devices', b'household_furniture', b'insects', b'large_carnivores', b'large_man-made_outdoor_things', b'large_natural_outdoor_scenes', b'large_omnivores_and_herbivores', b'medium_mammals', b'non-insect_invertebrates', b'people', b'reptiles', b'small_mammals', b'trees', b'vehicles_1', b'vehicles_2']])"
      ]
     },
     "execution_count": 7,
     "metadata": {},
     "output_type": "execute_result"
    }
   ],
   "source": [
    "dataset_meta.values()"
   ]
  },
  {
   "cell_type": "markdown",
   "metadata": {},
   "source": [
    "As documented on the homepage, `b'data'` contains rows of 3073 unsigned integers, representing three channels (red, green, and blue) for one 32x32 pixel image per row."
   ]
  },
  {
   "cell_type": "code",
   "execution_count": 8,
   "metadata": {
    "execution": {
     "iopub.execute_input": "2025-08-19T21:50:34.963802Z",
     "iopub.status.busy": "2025-08-19T21:50:34.963377Z",
     "iopub.status.idle": "2025-08-19T21:50:34.968847Z",
     "shell.execute_reply": "2025-08-19T21:50:34.967940Z",
     "shell.execute_reply.started": "2025-08-19T21:50:34.963777Z"
    }
   },
   "outputs": [
    {
     "data": {
      "text/plain": [
       "3072"
      ]
     },
     "execution_count": 8,
     "metadata": {},
     "output_type": "execute_result"
    }
   ],
   "source": [
    "32*32*3"
   ]
  },
  {
   "cell_type": "markdown",
   "metadata": {},
   "source": [
    "For a simple gut-check, let's transform one of our images. Each 1024 items in a row is a channel (red, green, then blue). Each 32 items in the channel are a row in the 32x32 image. Using python, we can stack these channels into a 32x32x3 array, and save it as a PNG file:"
   ]
  },
  {
   "cell_type": "code",
   "execution_count": 9,
   "metadata": {
    "execution": {
     "iopub.execute_input": "2025-08-19T21:50:35.978053Z",
     "iopub.status.busy": "2025-08-19T21:50:35.977759Z",
     "iopub.status.idle": "2025-08-19T21:50:35.982670Z",
     "shell.execute_reply": "2025-08-19T21:50:35.981593Z",
     "shell.execute_reply.started": "2025-08-19T21:50:35.978031Z"
    }
   },
   "outputs": [],
   "source": [
    "import numpy as np\n",
    "\n",
    "# Each 1024 in a row is a channel (red, green, then blue)\n",
    "row = dataset_train[b'data'][0]\n",
    "red, green, blue = row[0:1024], row[1024:2048], row[2048:]\n",
    "\n",
    "# Each 32 items in the channel are a row in the 32x32 image\n",
    "red = red.reshape(32,32)\n",
    "green = green.reshape(32,32)\n",
    "blue = blue.reshape(32,32)\n",
    "\n",
    "# Combine the channels into a 32x32x3 image!\n",
    "combined = np.dstack((red,green,blue))"
   ]
  },
  {
   "cell_type": "markdown",
   "metadata": {},
   "source": [
    "For a more concise version, consider the following:"
   ]
  },
  {
   "cell_type": "code",
   "execution_count": 10,
   "metadata": {
    "execution": {
     "iopub.execute_input": "2025-08-19T21:50:37.228286Z",
     "iopub.status.busy": "2025-08-19T21:50:37.227943Z",
     "iopub.status.idle": "2025-08-19T21:50:37.232523Z",
     "shell.execute_reply": "2025-08-19T21:50:37.231425Z",
     "shell.execute_reply.started": "2025-08-19T21:50:37.228262Z"
    }
   },
   "outputs": [],
   "source": [
    "# All in one:\n",
    "test_image = np.dstack((\n",
    "    row[0:1024].reshape(32,32),\n",
    "    row[1024:2048].reshape(32,32),\n",
    "    row[2048:].reshape(32,32)\n",
    "))"
   ]
  },
  {
   "cell_type": "code",
   "execution_count": 11,
   "metadata": {
    "execution": {
     "iopub.execute_input": "2025-08-19T21:50:37.798574Z",
     "iopub.status.busy": "2025-08-19T21:50:37.798211Z",
     "iopub.status.idle": "2025-08-19T21:50:38.938931Z",
     "shell.execute_reply": "2025-08-19T21:50:38.938257Z",
     "shell.execute_reply.started": "2025-08-19T21:50:37.798546Z"
    }
   },
   "outputs": [
    {
     "data": {
      "image/png": "[encoded data removed]",
      "text/plain": [
       "<Figure size 640x480 with 1 Axes>"
      ]
     },
     "metadata": {},
     "output_type": "display_data"
    }
   ],
   "source": [
    "import matplotlib.pyplot as plt\n",
    "plt.imshow(test_image);"
   ]
  },
  {
   "cell_type": "markdown",
   "metadata": {},
   "source": [
    "Looks like a cow! Let's check the label. `dataset_meta` contains label names in order, and `dataset_train` has a list of labels for each row."
   ]
  },
  {
   "cell_type": "code",
   "execution_count": 12,
   "metadata": {
    "execution": {
     "iopub.execute_input": "2025-08-19T21:50:41.314424Z",
     "iopub.status.busy": "2025-08-19T21:50:41.313681Z",
     "iopub.status.idle": "2025-08-19T21:50:41.318824Z",
     "shell.execute_reply": "2025-08-19T21:50:41.318173Z",
     "shell.execute_reply.started": "2025-08-19T21:50:41.314394Z"
    }
   },
   "outputs": [
    {
     "data": {
      "text/plain": [
       "19"
      ]
     },
     "execution_count": 12,
     "metadata": {},
     "output_type": "execute_result"
    }
   ],
   "source": [
    "dataset_train[b'fine_labels'][0]"
   ]
  },
  {
   "cell_type": "markdown",
   "metadata": {},
   "source": [
    "Our image has a label of `19`, so let's see what the 19th item is in the list of label names."
   ]
  },
  {
   "cell_type": "code",
   "execution_count": 13,
   "metadata": {
    "execution": {
     "iopub.execute_input": "2025-08-19T21:50:52.093326Z",
     "iopub.status.busy": "2025-08-19T21:50:52.092968Z",
     "iopub.status.idle": "2025-08-19T21:50:52.097803Z",
     "shell.execute_reply": "2025-08-19T21:50:52.097076Z",
     "shell.execute_reply.started": "2025-08-19T21:50:52.093300Z"
    }
   },
   "outputs": [
    {
     "name": "stdout",
     "output_type": "stream",
     "text": [
      "b'cattle'\n"
     ]
    }
   ],
   "source": [
    "print(dataset_meta[b'fine_label_names'][19])"
   ]
  },
  {
   "cell_type": "markdown",
   "metadata": {},
   "source": [
    "Ok! 'cattle' sounds about right. By the way, using the previous two lines we can do:"
   ]
  },
  {
   "cell_type": "code",
   "execution_count": 14,
   "metadata": {
    "execution": {
     "iopub.execute_input": "2025-08-19T21:50:54.482462Z",
     "iopub.status.busy": "2025-08-19T21:50:54.482169Z",
     "iopub.status.idle": "2025-08-19T21:50:54.486401Z",
     "shell.execute_reply": "2025-08-19T21:50:54.485786Z",
     "shell.execute_reply.started": "2025-08-19T21:50:54.482441Z"
    }
   },
   "outputs": [
    {
     "name": "stdout",
     "output_type": "stream",
     "text": [
      "b'cattle'\n"
     ]
    }
   ],
   "source": [
    "n = 0\n",
    "print(dataset_meta[b'fine_label_names'][dataset_train[b'fine_labels'][n]])"
   ]
  },
  {
   "cell_type": "markdown",
   "metadata": {},
   "source": [
    "Now we know how to check labels, is there a way that we can also check file names? `dataset_train` also contains a `b'filenames'` key. Let's see what we have here:"
   ]
  },
  {
   "cell_type": "code",
   "execution_count": 15,
   "metadata": {
    "execution": {
     "iopub.execute_input": "2025-08-19T21:51:57.259861Z",
     "iopub.status.busy": "2025-08-19T21:51:57.258858Z",
     "iopub.status.idle": "2025-08-19T21:51:57.262915Z",
     "shell.execute_reply": "2025-08-19T21:51:57.262426Z",
     "shell.execute_reply.started": "2025-08-19T21:51:57.259832Z"
    }
   },
   "outputs": [
    {
     "name": "stdout",
     "output_type": "stream",
     "text": [
      "b'bos_taurus_s_000507.png'\n"
     ]
    }
   ],
   "source": [
    "print(dataset_train[b'filenames'][0])"
   ]
  },
  {
   "cell_type": "markdown",
   "metadata": {},
   "source": [
    "\"Taurus\" is the name of a subspecies of cattle, so this looks like a pretty reasonable filename. To save an image we can also do:"
   ]
  },
  {
   "cell_type": "code",
   "execution_count": 16,
   "metadata": {
    "execution": {
     "iopub.execute_input": "2025-08-19T21:52:10.144714Z",
     "iopub.status.busy": "2025-08-19T21:52:10.144054Z",
     "iopub.status.idle": "2025-08-19T21:52:10.149408Z",
     "shell.execute_reply": "2025-08-19T21:52:10.148739Z",
     "shell.execute_reply.started": "2025-08-19T21:52:10.144675Z"
    }
   },
   "outputs": [],
   "source": [
    "plt.imsave(\"file.png\", test_image)"
   ]
  },
  {
   "cell_type": "markdown",
   "metadata": {},
   "source": [
    "Your new PNG file should now appear in the file explorer -- go ahead and pop it open to see!\n",
    "\n",
    "Now that you know how to reshape the images, save them as files, and capture their filenames and labels, let's just capture all the bicycles and motorcycles and save them. Scones Unlimited can use a model that tells these apart to route delivery drivers automatically.\n",
    "\n",
    "In the following cell, identify the label numbers for Bicycles and Motorcycles:"
   ]
  },
  {
   "cell_type": "code",
   "execution_count": 17,
   "metadata": {
    "execution": {
     "iopub.execute_input": "2025-08-19T21:52:13.789300Z",
     "iopub.status.busy": "2025-08-19T21:52:13.788659Z",
     "iopub.status.idle": "2025-08-19T21:52:14.213429Z",
     "shell.execute_reply": "2025-08-19T21:52:14.212789Z",
     "shell.execute_reply.started": "2025-08-19T21:52:13.789269Z"
    }
   },
   "outputs": [
    {
     "data": {
      "text/html": [
       "<div>\n",
       "<style scoped>\n",
       "    .dataframe tbody tr th:only-of-type {\n",
       "        vertical-align: middle;\n",
       "    }\n",
       "\n",
       "    .dataframe tbody tr th {\n",
       "        vertical-align: top;\n",
       "    }\n",
       "\n",
       "    .dataframe thead th {\n",
       "        text-align: right;\n",
       "    }\n",
       "</style>\n",
       "<table border=\"1\" class=\"dataframe\">\n",
       "  <thead>\n",
       "    <tr style=\"text-align: right;\">\n",
       "      <th></th>\n",
       "      <th>class</th>\n",
       "      <th>label</th>\n",
       "    </tr>\n",
       "  </thead>\n",
       "  <tbody>\n",
       "    <tr>\n",
       "      <th>0</th>\n",
       "      <td>bicycle</td>\n",
       "      <td>8</td>\n",
       "    </tr>\n",
       "    <tr>\n",
       "      <th>1</th>\n",
       "      <td>motorcycle</td>\n",
       "      <td>48</td>\n",
       "    </tr>\n",
       "  </tbody>\n",
       "</table>\n",
       "</div>"
      ],
      "text/plain": [
       "        class  label\n",
       "0     bicycle      8\n",
       "1  motorcycle     48"
      ]
     },
     "execution_count": 17,
     "metadata": {},
     "output_type": "execute_result"
    }
   ],
   "source": [
    "import pandas as pd\n",
    "\n",
    "# Todo: Filter the dataset_train and dataset_meta objects to find the label numbers for Bicycle and Motorcycles\n",
    "meta_labels = dataset_meta[b'fine_label_names']\n",
    "\n",
    "meta = pd.DataFrame(\n",
    "    [(label.decode(), meta_labels.index(label)) for label in [b\"bicycle\", b\"motorcycle\"]],\n",
    "    columns=[\"class\", \"label\"]\n",
    ")\n",
    "\n",
    "meta"
   ]
  },
  {
   "cell_type": "markdown",
   "metadata": {},
   "source": [
    "Good job! We only need objects with label 8 and 48 -- this drastically simplifies our handling of the data! Below we construct a dataframe for you, and you can safely drop the rows that don't contain observations about bicycles and motorcycles. Fill in the missing lines below to drop all other rows:"
   ]
  },
  {
   "cell_type": "code",
   "execution_count": 56,
   "metadata": {
    "execution": {
     "iopub.execute_input": "2025-08-19T23:34:10.343039Z",
     "iopub.status.busy": "2025-08-19T23:34:10.342411Z",
     "iopub.status.idle": "2025-08-19T23:34:13.743393Z",
     "shell.execute_reply": "2025-08-19T23:34:13.742663Z",
     "shell.execute_reply.started": "2025-08-19T23:34:10.343009Z"
    }
   },
   "outputs": [],
   "source": [
    "#Construct the dataframe\n",
    "df_train = pd.DataFrame({\n",
    "    \"filenames\": dataset_train[b'filenames'],\n",
    "    \"labels\": dataset_train[b'fine_labels'],\n",
    "    \"row\": range(len(dataset_train[b'filenames'])),\n",
    "    \"flatten_pixels\": dataset_train[b\"data\"].tolist(),\n",
    "})\n",
    "\n",
    "# Drop all rows from df_train where label is not 8 or 48\n",
    "df_train = df_train.drop(df_train[~df_train['labels'].isin([8, 48])].index)\n",
    "\n",
    "# Decode df_train.filenames so they are regular strings\n",
    "df_train[\"filenames\"] = df_train[\"filenames\"].apply(\n",
    "    lambda x: x.decode(\"utf-8\")\n",
    ")\n",
    "\n",
    "\n",
    "df_test = pd.DataFrame({\n",
    "    \"filenames\": dataset_test[b'filenames'],\n",
    "    \"labels\": dataset_test[b'fine_labels'],\n",
    "    \"row\": range(len(dataset_test[b'filenames'])),\n",
    "    \"flatten_pixels\": dataset_test[b\"data\"].tolist(),\n",
    "})\n",
    "\n",
    "# Drop all rows from df_test where label is not 8 or 48\n",
    "df_test = df_test.drop(df_test[~df_test['labels'].isin([8, 48])].index)\n",
    "\n",
    "# Decode df_test.filenames so they are regular strings\n",
    "df_test[\"filenames\"] = df_test[\"filenames\"].apply(\n",
    "    lambda x: x.decode(\"utf-8\")\n",
    ")"
   ]
  },
  {
   "cell_type": "code",
   "execution_count": 57,
   "metadata": {
    "execution": {
     "iopub.execute_input": "2025-08-19T23:34:16.226331Z",
     "iopub.status.busy": "2025-08-19T23:34:16.226037Z",
     "iopub.status.idle": "2025-08-19T23:34:16.239862Z",
     "shell.execute_reply": "2025-08-19T23:34:16.238809Z",
     "shell.execute_reply.started": "2025-08-19T23:34:16.226310Z"
    }
   },
   "outputs": [
    {
     "data": {
      "text/html": [
       "<div>\n",
       "<style scoped>\n",
       "    .dataframe tbody tr th:only-of-type {\n",
       "        vertical-align: middle;\n",
       "    }\n",
       "\n",
       "    .dataframe tbody tr th {\n",
       "        vertical-align: top;\n",
       "    }\n",
       "\n",
       "    .dataframe thead th {\n",
       "        text-align: right;\n",
       "    }\n",
       "</style>\n",
       "<table border=\"1\" class=\"dataframe\">\n",
       "  <thead>\n",
       "    <tr style=\"text-align: right;\">\n",
       "      <th></th>\n",
       "      <th>filenames</th>\n",
       "      <th>labels</th>\n",
       "      <th>row</th>\n",
       "      <th>flatten_pixels</th>\n",
       "    </tr>\n",
       "  </thead>\n",
       "  <tbody>\n",
       "    <tr>\n",
       "      <th>16</th>\n",
       "      <td>bike_s_000682.png</td>\n",
       "      <td>8</td>\n",
       "      <td>16</td>\n",
       "      <td>[35, 27, 31, 77, 136, 168, 103, 101, 85, 63, 6...</td>\n",
       "    </tr>\n",
       "    <tr>\n",
       "      <th>30</th>\n",
       "      <td>bike_s_000127.png</td>\n",
       "      <td>8</td>\n",
       "      <td>30</td>\n",
       "      <td>[88, 104, 112, 81, 40, 39, 41, 47, 87, 119, 16...</td>\n",
       "    </tr>\n",
       "    <tr>\n",
       "      <th>130</th>\n",
       "      <td>cycle_s_002598.png</td>\n",
       "      <td>8</td>\n",
       "      <td>130</td>\n",
       "      <td>[89, 88, 89, 88, 89, 90, 90, 90, 90, 90, 90, 9...</td>\n",
       "    </tr>\n",
       "    <tr>\n",
       "      <th>152</th>\n",
       "      <td>minibike_s_000824.png</td>\n",
       "      <td>48</td>\n",
       "      <td>152</td>\n",
       "      <td>[158, 160, 163, 168, 173, 177, 178, 180, 181, ...</td>\n",
       "    </tr>\n",
       "    <tr>\n",
       "      <th>195</th>\n",
       "      <td>motorcycle_s_001856.png</td>\n",
       "      <td>48</td>\n",
       "      <td>195</td>\n",
       "      <td>[255, 255, 255, 255, 255, 255, 248, 220, 201, ...</td>\n",
       "    </tr>\n",
       "  </tbody>\n",
       "</table>\n",
       "</div>"
      ],
      "text/plain": [
       "                   filenames  labels  row  \\\n",
       "16         bike_s_000682.png       8   16   \n",
       "30         bike_s_000127.png       8   30   \n",
       "130       cycle_s_002598.png       8  130   \n",
       "152    minibike_s_000824.png      48  152   \n",
       "195  motorcycle_s_001856.png      48  195   \n",
       "\n",
       "                                        flatten_pixels  \n",
       "16   [35, 27, 31, 77, 136, 168, 103, 101, 85, 63, 6...  \n",
       "30   [88, 104, 112, 81, 40, 39, 41, 47, 87, 119, 16...  \n",
       "130  [89, 88, 89, 88, 89, 90, 90, 90, 90, 90, 90, 9...  \n",
       "152  [158, 160, 163, 168, 173, 177, 178, 180, 181, ...  \n",
       "195  [255, 255, 255, 255, 255, 255, 248, 220, 201, ...  "
      ]
     },
     "execution_count": 57,
     "metadata": {},
     "output_type": "execute_result"
    }
   ],
   "source": [
    "df_train.head()"
   ]
  },
  {
   "cell_type": "code",
   "execution_count": 58,
   "metadata": {
    "execution": {
     "iopub.execute_input": "2025-08-19T23:34:17.954187Z",
     "iopub.status.busy": "2025-08-19T23:34:17.953810Z",
     "iopub.status.idle": "2025-08-19T23:34:17.966608Z",
     "shell.execute_reply": "2025-08-19T23:34:17.965861Z",
     "shell.execute_reply.started": "2025-08-19T23:34:17.954163Z"
    }
   },
   "outputs": [
    {
     "data": {
      "text/html": [
       "<div>\n",
       "<style scoped>\n",
       "    .dataframe tbody tr th:only-of-type {\n",
       "        vertical-align: middle;\n",
       "    }\n",
       "\n",
       "    .dataframe tbody tr th {\n",
       "        vertical-align: top;\n",
       "    }\n",
       "\n",
       "    .dataframe thead th {\n",
       "        text-align: right;\n",
       "    }\n",
       "</style>\n",
       "<table border=\"1\" class=\"dataframe\">\n",
       "  <thead>\n",
       "    <tr style=\"text-align: right;\">\n",
       "      <th></th>\n",
       "      <th>filenames</th>\n",
       "      <th>labels</th>\n",
       "      <th>row</th>\n",
       "      <th>flatten_pixels</th>\n",
       "    </tr>\n",
       "  </thead>\n",
       "  <tbody>\n",
       "    <tr>\n",
       "      <th>27</th>\n",
       "      <td>safety_bike_s_000390.png</td>\n",
       "      <td>8</td>\n",
       "      <td>27</td>\n",
       "      <td>[22, 34, 38, 33, 26, 9, 10, 9, 7, 19, 45, 57, ...</td>\n",
       "    </tr>\n",
       "    <tr>\n",
       "      <th>28</th>\n",
       "      <td>bike_s_000658.png</td>\n",
       "      <td>8</td>\n",
       "      <td>28</td>\n",
       "      <td>[216, 217, 215, 215, 214, 211, 208, 205, 201, ...</td>\n",
       "    </tr>\n",
       "    <tr>\n",
       "      <th>116</th>\n",
       "      <td>velocipede_s_001744.png</td>\n",
       "      <td>8</td>\n",
       "      <td>116</td>\n",
       "      <td>[255, 251, 251, 251, 251, 249, 240, 235, 237, ...</td>\n",
       "    </tr>\n",
       "    <tr>\n",
       "      <th>161</th>\n",
       "      <td>bike_s_000643.png</td>\n",
       "      <td>8</td>\n",
       "      <td>161</td>\n",
       "      <td>[74, 105, 118, 140, 166, 158, 163, 170, 165, 1...</td>\n",
       "    </tr>\n",
       "    <tr>\n",
       "      <th>319</th>\n",
       "      <td>ordinary_bicycle_s_000437.png</td>\n",
       "      <td>8</td>\n",
       "      <td>319</td>\n",
       "      <td>[195, 193, 193, 193, 193, 193, 193, 193, 193, ...</td>\n",
       "    </tr>\n",
       "  </tbody>\n",
       "</table>\n",
       "</div>"
      ],
      "text/plain": [
       "                         filenames  labels  row  \\\n",
       "27        safety_bike_s_000390.png       8   27   \n",
       "28               bike_s_000658.png       8   28   \n",
       "116        velocipede_s_001744.png       8  116   \n",
       "161              bike_s_000643.png       8  161   \n",
       "319  ordinary_bicycle_s_000437.png       8  319   \n",
       "\n",
       "                                        flatten_pixels  \n",
       "27   [22, 34, 38, 33, 26, 9, 10, 9, 7, 19, 45, 57, ...  \n",
       "28   [216, 217, 215, 215, 214, 211, 208, 205, 201, ...  \n",
       "116  [255, 251, 251, 251, 251, 249, 240, 235, 237, ...  \n",
       "161  [74, 105, 118, 140, 166, 158, 163, 170, 165, 1...  \n",
       "319  [195, 193, 193, 193, 193, 193, 193, 193, 193, ...  "
      ]
     },
     "execution_count": 58,
     "metadata": {},
     "output_type": "execute_result"
    }
   ],
   "source": [
    "df_test.head()"
   ]
  },
  {
   "cell_type": "markdown",
   "metadata": {},
   "source": [
    "Now that the data is filtered for just our classes, we can save all our images."
   ]
  },
  {
   "cell_type": "code",
   "execution_count": 21,
   "metadata": {
    "execution": {
     "iopub.execute_input": "2025-08-19T21:54:53.461509Z",
     "iopub.status.busy": "2025-08-19T21:54:53.461105Z",
     "iopub.status.idle": "2025-08-19T21:54:53.808094Z",
     "shell.execute_reply": "2025-08-19T21:54:53.807010Z",
     "shell.execute_reply.started": "2025-08-19T21:54:53.461483Z"
    }
   },
   "outputs": [],
   "source": [
    "!mkdir ./train\n",
    "!mkdir ./test"
   ]
  },
  {
   "cell_type": "markdown",
   "metadata": {},
   "source": [
    "In the previous sections we introduced you to several key snippets of code:\n",
    "\n",
    "1. Grabbing the image data:\n",
    "\n",
    "```python\n",
    "dataset_train[b'data'][0]\n",
    "```\n",
    "\n",
    "2. A simple idiom for stacking the image data into the right shape\n",
    "\n",
    "```python\n",
    "import numpy as np\n",
    "np.dstack((\n",
    "    row[0:1024].reshape(32,32),\n",
    "    row[1024:2048].reshape(32,32),\n",
    "    row[2048:].reshape(32,32)\n",
    "))\n",
    "```\n",
    "\n",
    "3. A simple `matplotlib` utility for saving images\n",
    "\n",
    "```python\n",
    "plt.imsave(path+row['filenames'], target)\n",
    "```\n",
    "\n",
    "Compose these together into a function that saves all the images into the `./test` and `./train` directories. Use the comments in the body of the `save_images` function below to guide your construction of the function:\n"
   ]
  },
  {
   "cell_type": "code",
   "execution_count": 63,
   "metadata": {
    "execution": {
     "iopub.execute_input": "2025-08-19T23:35:34.750966Z",
     "iopub.status.busy": "2025-08-19T23:35:34.750488Z",
     "iopub.status.idle": "2025-08-19T23:35:34.757272Z",
     "shell.execute_reply": "2025-08-19T23:35:34.756417Z",
     "shell.execute_reply.started": "2025-08-19T23:35:34.750939Z"
    }
   },
   "outputs": [],
   "source": [
    "import numpy as np\n",
    "import os\n",
    "from PIL import Image\n",
    "\n",
    "def save_images(df, save_dir):\n",
    "    os.makedirs(save_dir, exist_ok=True)\n",
    "\n",
    "    for i, row in df.iterrows():\n",
    "        # Get flattened pixels\n",
    "        img = row[\"flatten_pixels\"]\n",
    "\n",
    "        # Reshape to (32, 32, 3)\n",
    "        target = np.dstack((\n",
    "            np.array(img[0:1024]).reshape(32, 32),\n",
    "            np.array(img[1024:2048]).reshape(32, 32),\n",
    "            np.array(img[2048:]).reshape(32, 32)\n",
    "        ))\n",
    "\n",
    "        # Convert to uint8\n",
    "        target = target.astype(np.uint8)\n",
    "\n",
    "        # Define filename\n",
    "        filename = os.path.join(save_dir, row[\"filenames\"])\n",
    "\n",
    "        # Save image\n",
    "        Image.fromarray(target).save(filename)\n",
    "\n",
    "    print(f\"Saved {len(df)} images to {save_dir}\")"
   ]
  },
  {
   "cell_type": "code",
   "execution_count": 64,
   "metadata": {
    "execution": {
     "iopub.execute_input": "2025-08-19T23:35:36.550428Z",
     "iopub.status.busy": "2025-08-19T23:35:36.550133Z",
     "iopub.status.idle": "2025-08-19T23:35:37.204429Z",
     "shell.execute_reply": "2025-08-19T23:35:37.203724Z",
     "shell.execute_reply.started": "2025-08-19T23:35:36.550407Z"
    }
   },
   "outputs": [
    {
     "name": "stdout",
     "output_type": "stream",
     "text": [
      "Saved 1000 images to ./train\n"
     ]
    }
   ],
   "source": [
    "save_images(df_train, \"./train\")"
   ]
  },
  {
   "cell_type": "code",
   "execution_count": 85,
   "metadata": {
    "execution": {
     "iopub.execute_input": "2025-08-20T00:05:23.572172Z",
     "iopub.status.busy": "2025-08-20T00:05:23.571880Z",
     "iopub.status.idle": "2025-08-20T00:05:23.710333Z",
     "shell.execute_reply": "2025-08-20T00:05:23.709541Z",
     "shell.execute_reply.started": "2025-08-20T00:05:23.572142Z"
    }
   },
   "outputs": [
    {
     "name": "stdout",
     "output_type": "stream",
     "text": [
      "Saved 200 images to ./test\n"
     ]
    }
   ],
   "source": [
    "save_images(df_test, \"./test\")"
   ]
  },
  {
   "cell_type": "markdown",
   "metadata": {},
   "source": [
    "### 3. Load the data\n",
    "\n",
    "Now we can load the data into S3.\n",
    "\n",
    "Using the sagemaker SDK grab the current region, execution role, and bucket."
   ]
  },
  {
   "cell_type": "code",
   "execution_count": 87,
   "metadata": {
    "execution": {
     "iopub.execute_input": "2025-08-20T00:05:58.187900Z",
     "iopub.status.busy": "2025-08-20T00:05:58.187070Z",
     "iopub.status.idle": "2025-08-20T00:05:58.496137Z",
     "shell.execute_reply": "2025-08-20T00:05:58.495283Z",
     "shell.execute_reply.started": "2025-08-20T00:05:58.187873Z"
    }
   },
   "outputs": [
    {
     "name": "stdout",
     "output_type": "stream",
     "text": [
      "Default Bucket: sagemaker-us-east-1-329599635419\n",
      "AWS Region: us-east-1\n",
      "RoleArn: arn:aws:iam::329599635419:role/service-role/AmazonSageMaker-ExecutionRole-20250819T034738\n"
     ]
    }
   ],
   "source": [
    "import sagemaker\n",
    "from sagemaker.session import Session\n",
    "\n",
    "session = sagemaker.Session()\n",
    "\n",
    "bucket= session.default_bucket()\n",
    "print(\"Default Bucket: {}\".format(bucket))\n",
    "\n",
    "region = session.boto_region_name\n",
    "print(\"AWS Region: {}\".format(region))\n",
    "\n",
    "role = sagemaker.get_execution_role()\n",
    "print(\"RoleArn: {}\".format(role))"
   ]
  },
  {
   "cell_type": "markdown",
   "metadata": {},
   "source": [
    "With this data we can easily sync your data up into S3!"
   ]
  },
  {
   "cell_type": "code",
   "execution_count": 88,
   "metadata": {
    "execution": {
     "iopub.execute_input": "2025-08-20T00:05:59.672685Z",
     "iopub.status.busy": "2025-08-20T00:05:59.672190Z",
     "iopub.status.idle": "2025-08-20T00:06:07.062769Z",
     "shell.execute_reply": "2025-08-20T00:06:07.061755Z",
     "shell.execute_reply.started": "2025-08-20T00:05:59.672649Z"
    }
   },
   "outputs": [
    {
     "name": "stdout",
     "output_type": "stream",
     "text": [
      "upload: test/bicycle_s_000031.png to s3://sagemaker-us-east-1-329599635419/test/bicycle_s_000031.png\n",
      "upload: test/bicycle_s_000513.png to s3://sagemaker-us-east-1-329599635419/test/bicycle_s_000513.png\n",
      "upload: test/bicycle_s_000479.png to s3://sagemaker-us-east-1-329599635419/test/bicycle_s_000479.png\n",
      "upload: test/bicycle_s_000779.png to s3://sagemaker-us-east-1-329599635419/test/bicycle_s_000779.png\n",
      "upload: test/bicycle_s_000059.png to s3://sagemaker-us-east-1-329599635419/test/bicycle_s_000059.png\n",
      "upload: test/bicycle_s_001107.png to s3://sagemaker-us-east-1-329599635419/test/bicycle_s_001107.png\n",
      "upload: test/bicycle_s_000030.png to s3://sagemaker-us-east-1-329599635419/test/bicycle_s_000030.png\n",
      "upload: test/bicycle_s_002458.png to s3://sagemaker-us-east-1-329599635419/test/bicycle_s_002458.png\n",
      "upload: test/bicycle_s_001804.png to s3://sagemaker-us-east-1-329599635419/test/bicycle_s_001804.png\n",
      "upload: test/bicycle_s_000777.png to s3://sagemaker-us-east-1-329599635419/test/bicycle_s_000777.png\n",
      "upload: test/bicycle_s_000776.png to s3://sagemaker-us-east-1-329599635419/test/bicycle_s_000776.png\n",
      "upload: test/bicycle_s_001218.png to s3://sagemaker-us-east-1-329599635419/test/bicycle_s_001218.png\n",
      "upload: test/bicycle_s_000977.png to s3://sagemaker-us-east-1-329599635419/test/bicycle_s_000977.png\n",
      "upload: test/bicycle_s_002735.png to s3://sagemaker-us-east-1-329599635419/test/bicycle_s_002735.png\n",
      "upload: test/bike_s_000071.png to s3://sagemaker-us-east-1-329599635419/test/bike_s_000071.png\n",
      "upload: test/bike_s_000041.png to s3://sagemaker-us-east-1-329599635419/test/bike_s_000041.png\n",
      "upload: test/bike_s_000131.png to s3://sagemaker-us-east-1-329599635419/test/bike_s_000131.png\n",
      "upload: test/bike_s_000163.png to s3://sagemaker-us-east-1-329599635419/test/bike_s_000163.png\n",
      "upload: test/bike_s_000457.png to s3://sagemaker-us-east-1-329599635419/test/bike_s_000457.png\n",
      "upload: test/bicycle_s_001102.png to s3://sagemaker-us-east-1-329599635419/test/bicycle_s_001102.png\n",
      "upload: test/bike_s_000694.png to s3://sagemaker-us-east-1-329599635419/test/bike_s_000694.png\n",
      "upload: test/bike_s_000487.png to s3://sagemaker-us-east-1-329599635419/test/bike_s_000487.png\n",
      "upload: test/bike_s_000330.png to s3://sagemaker-us-east-1-329599635419/test/bike_s_000330.png\n",
      "upload: test/bike_s_000643.png to s3://sagemaker-us-east-1-329599635419/test/bike_s_000643.png\n",
      "upload: test/bike_s_000941.png to s3://sagemaker-us-east-1-329599635419/test/bike_s_000941.png\n",
      "upload: test/bicycle_s_001789.png to s3://sagemaker-us-east-1-329599635419/test/bicycle_s_001789.png\n",
      "upload: test/bicycle_s_001047.png to s3://sagemaker-us-east-1-329599635419/test/bicycle_s_001047.png\n",
      "upload: test/bike_s_000658.png to s3://sagemaker-us-east-1-329599635419/test/bike_s_000658.png\n",
      "upload: test/bike_s_001068.png to s3://sagemaker-us-east-1-329599635419/test/bike_s_001068.png\n",
      "upload: test/bike_s_000801.png to s3://sagemaker-us-east-1-329599635419/test/bike_s_000801.png\n",
      "upload: test/bike_s_001159.png to s3://sagemaker-us-east-1-329599635419/test/bike_s_001159.png\n",
      "upload: test/bike_s_001784.png to s3://sagemaker-us-east-1-329599635419/test/bike_s_001784.png\n",
      "upload: test/bike_s_001342.png to s3://sagemaker-us-east-1-329599635419/test/bike_s_001342.png\n",
      "upload: test/bike_s_001738.png to s3://sagemaker-us-east-1-329599635419/test/bike_s_001738.png\n",
      "upload: test/bike_s_002009.png to s3://sagemaker-us-east-1-329599635419/test/bike_s_002009.png\n",
      "upload: test/bike_s_001852.png to s3://sagemaker-us-east-1-329599635419/test/bike_s_001852.png\n",
      "upload: test/bike_s_001073.png to s3://sagemaker-us-east-1-329599635419/test/bike_s_001073.png\n",
      "upload: test/bike_s_002116.png to s3://sagemaker-us-east-1-329599635419/test/bike_s_002116.png\n",
      "upload: test/bike_s_001216.png to s3://sagemaker-us-east-1-329599635419/test/bike_s_001216.png\n",
      "upload: test/cycle_s_000010.png to s3://sagemaker-us-east-1-329599635419/test/cycle_s_000010.png\n",
      "upload: test/bike_s_002208.png to s3://sagemaker-us-east-1-329599635419/test/bike_s_002208.png\n",
      "upload: test/cycle_s_000970.png to s3://sagemaker-us-east-1-329599635419/test/cycle_s_000970.png\n",
      "upload: test/cycle_s_001915.png to s3://sagemaker-us-east-1-329599635419/test/cycle_s_001915.png\n",
      "upload: test/cycle_s_000068.png to s3://sagemaker-us-east-1-329599635419/test/cycle_s_000068.png\n",
      "upload: test/cycle_s_001214.png to s3://sagemaker-us-east-1-329599635419/test/cycle_s_001214.png\n",
      "upload: test/cycle_s_001044.png to s3://sagemaker-us-east-1-329599635419/test/cycle_s_001044.png\n",
      "upload: test/cycle_s_001953.png to s3://sagemaker-us-east-1-329599635419/test/cycle_s_001953.png\n",
      "upload: test/cycle_s_002613.png to s3://sagemaker-us-east-1-329599635419/test/cycle_s_002613.png\n",
      "upload: test/cycle_s_001306.png to s3://sagemaker-us-east-1-329599635419/test/cycle_s_001306.png\n",
      "upload: test/cycle_s_001648.png to s3://sagemaker-us-east-1-329599635419/test/cycle_s_001648.png\n",
      "upload: test/cycle_s_002661.png to s3://sagemaker-us-east-1-329599635419/test/cycle_s_002661.png\n",
      "upload: test/cycle_s_001297.png to s3://sagemaker-us-east-1-329599635419/test/cycle_s_001297.png\n",
      "upload: test/minibike_s_000052.png to s3://sagemaker-us-east-1-329599635419/test/minibike_s_000052.png\n",
      "upload: test/dirt_bike_s_000001.png to s3://sagemaker-us-east-1-329599635419/test/dirt_bike_s_000001.png\n",
      "upload: test/cycle_s_002305.png to s3://sagemaker-us-east-1-329599635419/test/cycle_s_002305.png\n",
      "upload: test/minibike_s_000055.png to s3://sagemaker-us-east-1-329599635419/test/minibike_s_000055.png\n",
      "upload: test/minibike_s_000075.png to s3://sagemaker-us-east-1-329599635419/test/minibike_s_000075.png\n",
      "upload: test/cycle_s_002964.png to s3://sagemaker-us-east-1-329599635419/test/cycle_s_002964.png\n",
      "upload: test/minibike_s_000290.png to s3://sagemaker-us-east-1-329599635419/test/minibike_s_000290.png\n",
      "upload: test/minibike_s_000309.png to s3://sagemaker-us-east-1-329599635419/test/minibike_s_000309.png\n",
      "upload: test/minibike_s_000288.png to s3://sagemaker-us-east-1-329599635419/test/minibike_s_000288.png\n",
      "upload: test/minibike_s_000254.png to s3://sagemaker-us-east-1-329599635419/test/minibike_s_000254.png\n",
      "upload: test/minibike_s_000792.png to s3://sagemaker-us-east-1-329599635419/test/minibike_s_000792.png\n",
      "upload: test/minibike_s_000505.png to s3://sagemaker-us-east-1-329599635419/test/minibike_s_000505.png\n",
      "upload: test/minibike_s_000497.png to s3://sagemaker-us-east-1-329599635419/test/minibike_s_000497.png\n",
      "upload: test/minibike_s_000398.png to s3://sagemaker-us-east-1-329599635419/test/minibike_s_000398.png\n",
      "upload: test/minibike_s_000573.png to s3://sagemaker-us-east-1-329599635419/test/minibike_s_000573.png\n",
      "upload: test/minibike_s_000801.png to s3://sagemaker-us-east-1-329599635419/test/minibike_s_000801.png\n",
      "upload: test/minibike_s_000913.png to s3://sagemaker-us-east-1-329599635419/test/minibike_s_000913.png\n",
      "upload: test/minibike_s_001441.png to s3://sagemaker-us-east-1-329599635419/test/minibike_s_001441.png\n",
      "upload: test/minibike_s_000947.png to s3://sagemaker-us-east-1-329599635419/test/minibike_s_000947.png\n",
      "upload: test/minibike_s_001089.png to s3://sagemaker-us-east-1-329599635419/test/minibike_s_001089.png\n",
      "upload: test/minibike_s_000960.png to s3://sagemaker-us-east-1-329599635419/test/minibike_s_000960.png\n",
      "upload: test/minibike_s_000828.png to s3://sagemaker-us-east-1-329599635419/test/minibike_s_000828.png\n",
      "upload: test/minibike_s_000880.png to s3://sagemaker-us-east-1-329599635419/test/minibike_s_000880.png\n",
      "upload: test/minibike_s_001473.png to s3://sagemaker-us-east-1-329599635419/test/minibike_s_001473.png\n",
      "upload: test/minibike_s_001547.png to s3://sagemaker-us-east-1-329599635419/test/minibike_s_001547.png\n",
      "upload: test/minibike_s_001605.png to s3://sagemaker-us-east-1-329599635419/test/minibike_s_001605.png\n",
      "upload: test/minibike_s_002230.png to s3://sagemaker-us-east-1-329599635419/test/minibike_s_002230.png\n",
      "upload: test/minibike_s_001651.png to s3://sagemaker-us-east-1-329599635419/test/minibike_s_001651.png\n",
      "upload: test/minibike_s_002173.png to s3://sagemaker-us-east-1-329599635419/test/minibike_s_002173.png\n",
      "upload: test/minibike_s_001893.png to s3://sagemaker-us-east-1-329599635419/test/minibike_s_001893.png\n",
      "upload: test/minibike_s_001867.png to s3://sagemaker-us-east-1-329599635419/test/minibike_s_001867.png\n",
      "upload: test/moped_s_000033.png to s3://sagemaker-us-east-1-329599635419/test/moped_s_000033.png\n",
      "upload: test/moped_s_000007.png to s3://sagemaker-us-east-1-329599635419/test/moped_s_000007.png\n",
      "upload: test/minibike_s_002227.png to s3://sagemaker-us-east-1-329599635419/test/minibike_s_002227.png\n",
      "upload: test/minibike_s_002051.png to s3://sagemaker-us-east-1-329599635419/test/minibike_s_002051.png\n",
      "upload: test/minibike_s_001732.png to s3://sagemaker-us-east-1-329599635419/test/minibike_s_001732.png\n",
      "upload: test/motorbike_s_000121.png to s3://sagemaker-us-east-1-329599635419/test/motorbike_s_000121.png\n",
      "upload: test/moped_s_000064.png to s3://sagemaker-us-east-1-329599635419/test/moped_s_000064.png\n",
      "upload: test/motorbike_s_000126.png to s3://sagemaker-us-east-1-329599635419/test/motorbike_s_000126.png\n",
      "upload: test/moped_s_000306.png to s3://sagemaker-us-east-1-329599635419/test/moped_s_000306.png\n",
      "upload: test/motorbike_s_000005.png to s3://sagemaker-us-east-1-329599635419/test/motorbike_s_000005.png\n",
      "upload: test/motorbike_s_000333.png to s3://sagemaker-us-east-1-329599635419/test/motorbike_s_000333.png\n",
      "upload: test/motorbike_s_000465.png to s3://sagemaker-us-east-1-329599635419/test/motorbike_s_000465.png\n",
      "upload: test/motorbike_s_000324.png to s3://sagemaker-us-east-1-329599635419/test/motorbike_s_000324.png\n",
      "upload: test/motorbike_s_000135.png to s3://sagemaker-us-east-1-329599635419/test/motorbike_s_000135.png\n",
      "upload: test/motorbike_s_000629.png to s3://sagemaker-us-east-1-329599635419/test/motorbike_s_000629.png\n",
      "upload: test/motorbike_s_000433.png to s3://sagemaker-us-east-1-329599635419/test/motorbike_s_000433.png\n",
      "upload: test/motorcycle_s_000007.png to s3://sagemaker-us-east-1-329599635419/test/motorcycle_s_000007.png\n",
      "upload: test/motorcycle_s_000040.png to s3://sagemaker-us-east-1-329599635419/test/motorcycle_s_000040.png\n",
      "upload: test/motorcycle_s_000060.png to s3://sagemaker-us-east-1-329599635419/test/motorcycle_s_000060.png\n",
      "upload: test/motorcycle_s_000141.png to s3://sagemaker-us-east-1-329599635419/test/motorcycle_s_000141.png\n",
      "upload: test/motorcycle_s_000049.png to s3://sagemaker-us-east-1-329599635419/test/motorcycle_s_000049.png\n",
      "upload: test/motorcycle_s_000139.png to s3://sagemaker-us-east-1-329599635419/test/motorcycle_s_000139.png\n",
      "upload: test/motorcycle_s_000063.png to s3://sagemaker-us-east-1-329599635419/test/motorcycle_s_000063.png\n",
      "upload: test/motorcycle_s_000211.png to s3://sagemaker-us-east-1-329599635419/test/motorcycle_s_000211.png\n",
      "upload: test/motorcycle_s_000042.png to s3://sagemaker-us-east-1-329599635419/test/motorcycle_s_000042.png\n",
      "upload: test/motorcycle_s_000222.png to s3://sagemaker-us-east-1-329599635419/test/motorcycle_s_000222.png\n",
      "upload: test/motorcycle_s_000171.png to s3://sagemaker-us-east-1-329599635419/test/motorcycle_s_000171.png\n",
      "upload: test/motorcycle_s_000323.png to s3://sagemaker-us-east-1-329599635419/test/motorcycle_s_000323.png\n",
      "upload: test/motorcycle_s_000352.png to s3://sagemaker-us-east-1-329599635419/test/motorcycle_s_000352.png\n",
      "upload: test/motorcycle_s_000446.png to s3://sagemaker-us-east-1-329599635419/test/motorcycle_s_000446.png\n",
      "upload: test/motorcycle_s_000485.png to s3://sagemaker-us-east-1-329599635419/test/motorcycle_s_000485.png\n",
      "upload: test/motorcycle_s_000494.png to s3://sagemaker-us-east-1-329599635419/test/motorcycle_s_000494.png\n",
      "upload: test/motorcycle_s_000427.png to s3://sagemaker-us-east-1-329599635419/test/motorcycle_s_000427.png\n",
      "upload: test/motorcycle_s_000512.png to s3://sagemaker-us-east-1-329599635419/test/motorcycle_s_000512.png\n",
      "upload: test/motorcycle_s_000450.png to s3://sagemaker-us-east-1-329599635419/test/motorcycle_s_000450.png\n",
      "upload: test/motorcycle_s_000602.png to s3://sagemaker-us-east-1-329599635419/test/motorcycle_s_000602.png\n",
      "upload: test/motorcycle_s_000606.png to s3://sagemaker-us-east-1-329599635419/test/motorcycle_s_000606.png\n",
      "upload: test/motorcycle_s_000530.png to s3://sagemaker-us-east-1-329599635419/test/motorcycle_s_000530.png\n",
      "upload: test/motorcycle_s_000615.png to s3://sagemaker-us-east-1-329599635419/test/motorcycle_s_000615.png\n",
      "upload: test/motorcycle_s_000739.png to s3://sagemaker-us-east-1-329599635419/test/motorcycle_s_000739.png\n",
      "upload: test/motorcycle_s_000797.png to s3://sagemaker-us-east-1-329599635419/test/motorcycle_s_000797.png\n",
      "upload: test/motorcycle_s_000866.png to s3://sagemaker-us-east-1-329599635419/test/motorcycle_s_000866.png\n",
      "upload: test/motorcycle_s_000685.png to s3://sagemaker-us-east-1-329599635419/test/motorcycle_s_000685.png\n",
      "upload: test/motorcycle_s_000878.png to s3://sagemaker-us-east-1-329599635419/test/motorcycle_s_000878.png\n",
      "upload: test/motorcycle_s_001164.png to s3://sagemaker-us-east-1-329599635419/test/motorcycle_s_001164.png\n",
      "upload: test/motorcycle_s_000876.png to s3://sagemaker-us-east-1-329599635419/test/motorcycle_s_000876.png\n",
      "upload: test/motorcycle_s_000963.png to s3://sagemaker-us-east-1-329599635419/test/motorcycle_s_000963.png\n",
      "upload: test/motorcycle_s_000679.png to s3://sagemaker-us-east-1-329599635419/test/motorcycle_s_000679.png\n",
      "upload: test/motorcycle_s_000825.png to s3://sagemaker-us-east-1-329599635419/test/motorcycle_s_000825.png\n",
      "upload: test/motorcycle_s_001385.png to s3://sagemaker-us-east-1-329599635419/test/motorcycle_s_001385.png\n",
      "upload: test/motorcycle_s_001348.png to s3://sagemaker-us-east-1-329599635419/test/motorcycle_s_001348.png\n",
      "upload: test/motorcycle_s_001269.png to s3://sagemaker-us-east-1-329599635419/test/motorcycle_s_001269.png\n",
      "upload: test/motorcycle_s_001249.png to s3://sagemaker-us-east-1-329599635419/test/motorcycle_s_001249.png\n",
      "upload: test/motorcycle_s_001508.png to s3://sagemaker-us-east-1-329599635419/test/motorcycle_s_001508.png\n",
      "upload: test/motorcycle_s_001519.png to s3://sagemaker-us-east-1-329599635419/test/motorcycle_s_001519.png\n",
      "upload: test/motorcycle_s_001261.png to s3://sagemaker-us-east-1-329599635419/test/motorcycle_s_001261.png\n",
      "upload: test/motorcycle_s_001679.png to s3://sagemaker-us-east-1-329599635419/test/motorcycle_s_001679.png\n",
      "upload: test/motorcycle_s_001782.png to s3://sagemaker-us-east-1-329599635419/test/motorcycle_s_001782.png\n",
      "upload: test/motorcycle_s_001955.png to s3://sagemaker-us-east-1-329599635419/test/motorcycle_s_001955.png\n",
      "upload: test/motorcycle_s_001971.png to s3://sagemaker-us-east-1-329599635419/test/motorcycle_s_001971.png\n",
      "upload: test/motorcycle_s_001960.png to s3://sagemaker-us-east-1-329599635419/test/motorcycle_s_001960.png\n",
      "upload: test/motorcycle_s_001892.png to s3://sagemaker-us-east-1-329599635419/test/motorcycle_s_001892.png\n",
      "upload: test/motorcycle_s_001687.png to s3://sagemaker-us-east-1-329599635419/test/motorcycle_s_001687.png\n",
      "upload: test/motorcycle_s_002026.png to s3://sagemaker-us-east-1-329599635419/test/motorcycle_s_002026.png\n",
      "upload: test/motorcycle_s_001936.png to s3://sagemaker-us-east-1-329599635419/test/motorcycle_s_001936.png\n",
      "upload: test/motorcycle_s_002112.png to s3://sagemaker-us-east-1-329599635419/test/motorcycle_s_002112.png\n",
      "upload: test/motorcycle_s_001906.png to s3://sagemaker-us-east-1-329599635419/test/motorcycle_s_001906.png\n",
      "upload: test/motorcycle_s_002126.png to s3://sagemaker-us-east-1-329599635419/test/motorcycle_s_002126.png\n",
      "upload: test/ordinary_bicycle_s_000113.png to s3://sagemaker-us-east-1-329599635419/test/ordinary_bicycle_s_000113.png\n",
      "upload: test/ordinary_bicycle_s_000284.png to s3://sagemaker-us-east-1-329599635419/test/ordinary_bicycle_s_000284.png\n",
      "upload: test/ordinary_bicycle_s_000105.png to s3://sagemaker-us-east-1-329599635419/test/ordinary_bicycle_s_000105.png\n",
      "upload: test/ordinary_bicycle_s_000169.png to s3://sagemaker-us-east-1-329599635419/test/ordinary_bicycle_s_000169.png\n",
      "upload: test/ordinary_bicycle_s_000350.png to s3://sagemaker-us-east-1-329599635419/test/ordinary_bicycle_s_000350.png\n",
      "upload: test/ordinary_bicycle_s_000158.png to s3://sagemaker-us-east-1-329599635419/test/ordinary_bicycle_s_000158.png\n",
      "upload: test/motorcycle_s_002177.png to s3://sagemaker-us-east-1-329599635419/test/motorcycle_s_002177.png\n",
      "upload: test/ordinary_bicycle_s_000431.png to s3://sagemaker-us-east-1-329599635419/test/ordinary_bicycle_s_000431.png\n",
      "upload: test/safety_bicycle_s_000235.png to s3://sagemaker-us-east-1-329599635419/test/safety_bicycle_s_000235.png\n",
      "upload: test/ordinary_bicycle_s_000437.png to s3://sagemaker-us-east-1-329599635419/test/ordinary_bicycle_s_000437.png\n",
      "upload: test/safety_bicycle_s_001286.png to s3://sagemaker-us-east-1-329599635419/test/safety_bicycle_s_001286.png\n",
      "upload: test/safety_bicycle_s_001153.png to s3://sagemaker-us-east-1-329599635419/test/safety_bicycle_s_001153.png\n",
      "upload: test/safety_bicycle_s_000280.png to s3://sagemaker-us-east-1-329599635419/test/safety_bicycle_s_000280.png\n",
      "upload: test/safety_bicycle_s_000315.png to s3://sagemaker-us-east-1-329599635419/test/safety_bicycle_s_000315.png\n",
      "upload: test/safety_bicycle_s_001575.png to s3://sagemaker-us-east-1-329599635419/test/safety_bicycle_s_001575.png\n",
      "upload: test/safety_bike_s_000192.png to s3://sagemaker-us-east-1-329599635419/test/safety_bike_s_000192.png\n",
      "upload: test/safety_bike_s_000488.png to s3://sagemaker-us-east-1-329599635419/test/safety_bike_s_000488.png\n",
      "upload: test/safety_bicycle_s_001322.png to s3://sagemaker-us-east-1-329599635419/test/safety_bicycle_s_001322.png\n",
      "upload: test/safety_bike_s_000390.png to s3://sagemaker-us-east-1-329599635419/test/safety_bike_s_000390.png\n",
      "upload: test/safety_bike_s_000541.png to s3://sagemaker-us-east-1-329599635419/test/safety_bike_s_000541.png\n",
      "upload: test/safety_bike_s_000540.png to s3://sagemaker-us-east-1-329599635419/test/safety_bike_s_000540.png\n",
      "upload: test/safety_bike_s_000791.png to s3://sagemaker-us-east-1-329599635419/test/safety_bike_s_000791.png\n",
      "upload: test/safety_bike_s_001088.png to s3://sagemaker-us-east-1-329599635419/test/safety_bike_s_001088.png\n",
      "upload: test/safety_bike_s_001087.png to s3://sagemaker-us-east-1-329599635419/test/safety_bike_s_001087.png\n",
      "upload: test/safety_bike_s_001132.png to s3://sagemaker-us-east-1-329599635419/test/safety_bike_s_001132.png\n",
      "upload: test/safety_bike_s_001253.png to s3://sagemaker-us-east-1-329599635419/test/safety_bike_s_001253.png\n",
      "upload: test/safety_bike_s_000699.png to s3://sagemaker-us-east-1-329599635419/test/safety_bike_s_000699.png\n",
      "upload: test/safety_bike_s_000438.png to s3://sagemaker-us-east-1-329599635419/test/safety_bike_s_000438.png\n",
      "upload: test/safety_bike_s_001065.png to s3://sagemaker-us-east-1-329599635419/test/safety_bike_s_001065.png\n",
      "upload: test/safety_bike_s_001481.png to s3://sagemaker-us-east-1-329599635419/test/safety_bike_s_001481.png\n",
      "upload: test/velocipede_s_000041.png to s3://sagemaker-us-east-1-329599635419/test/velocipede_s_000041.png\n",
      "upload: test/velocipede_s_000292.png to s3://sagemaker-us-east-1-329599635419/test/velocipede_s_000292.png\n",
      "upload: test/trail_bike_s_000073.png to s3://sagemaker-us-east-1-329599635419/test/trail_bike_s_000073.png\n",
      "upload: test/safety_bike_s_001690.png to s3://sagemaker-us-east-1-329599635419/test/safety_bike_s_001690.png\n",
      "upload: test/velocipede_s_000001.png to s3://sagemaker-us-east-1-329599635419/test/velocipede_s_000001.png\n",
      "upload: test/velocipede_s_000106.png to s3://sagemaker-us-east-1-329599635419/test/velocipede_s_000106.png\n",
      "upload: test/velocipede_s_000369.png to s3://sagemaker-us-east-1-329599635419/test/velocipede_s_000369.png\n",
      "upload: test/velocipede_s_001232.png to s3://sagemaker-us-east-1-329599635419/test/velocipede_s_001232.png\n",
      "upload: test/velocipede_s_001277.png to s3://sagemaker-us-east-1-329599635419/test/velocipede_s_001277.png\n",
      "upload: test/velocipede_s_001201.png to s3://sagemaker-us-east-1-329599635419/test/velocipede_s_001201.png\n",
      "upload: test/velocipede_s_000863.png to s3://sagemaker-us-east-1-329599635419/test/velocipede_s_000863.png\n",
      "upload: test/velocipede_s_001699.png to s3://sagemaker-us-east-1-329599635419/test/velocipede_s_001699.png\n",
      "upload: test/velocipede_s_001335.png to s3://sagemaker-us-east-1-329599635419/test/velocipede_s_001335.png\n",
      "upload: test/velocipede_s_001633.png to s3://sagemaker-us-east-1-329599635419/test/velocipede_s_001633.png\n",
      "upload: test/velocipede_s_001355.png to s3://sagemaker-us-east-1-329599635419/test/velocipede_s_001355.png\n",
      "upload: test/velocipede_s_001379.png to s3://sagemaker-us-east-1-329599635419/test/velocipede_s_001379.png\n",
      "upload: test/velocipede_s_001466.png to s3://sagemaker-us-east-1-329599635419/test/velocipede_s_001466.png\n",
      "upload: test/velocipede_s_001744.png to s3://sagemaker-us-east-1-329599635419/test/velocipede_s_001744.png\n",
      "upload: test/velocipede_s_001790.png to s3://sagemaker-us-east-1-329599635419/test/velocipede_s_001790.png\n"
     ]
    }
   ],
   "source": [
    "import os\n",
    "\n",
    "os.environ[\"DEFAULT_S3_BUCKET\"] = bucket\n",
    "\n",
    "!aws s3 sync ./train s3://${DEFAULT_S3_BUCKET}/train/\n",
    "!aws s3 sync ./test s3://${DEFAULT_S3_BUCKET}/test/"
   ]
  },
  {
   "cell_type": "markdown",
   "metadata": {},
   "source": [
    "And that's it! You can check the bucket and verify that the items were uploaded.\n",
    "\n",
    "## Model Training\n",
    "\n",
    "For Image Classification, Sagemaker [also expects metadata](https://docs.aws.amazon.com/sagemaker/latest/dg/image-classification.html) e.g. in the form of TSV files with labels and filepaths. We can generate these using our Pandas DataFrames from earlier:"
   ]
  },
  {
   "cell_type": "code",
   "execution_count": 89,
   "metadata": {
    "execution": {
     "iopub.execute_input": "2025-08-20T00:06:07.065593Z",
     "iopub.status.busy": "2025-08-20T00:06:07.064971Z",
     "iopub.status.idle": "2025-08-20T00:06:07.081601Z",
     "shell.execute_reply": "2025-08-20T00:06:07.080870Z",
     "shell.execute_reply.started": "2025-08-20T00:06:07.065552Z"
    }
   },
   "outputs": [],
   "source": [
    "def to_metadata_file(df, prefix):\n",
    "    df[\"s3_path\"] = df[\"filenames\"]\n",
    "    df[\"labels\"] = df[\"labels\"].apply(lambda x: 0 if x==8 else 1)\n",
    "    return df[[\"row\", \"labels\", \"s3_path\"]].to_csv(\n",
    "        f\"{prefix}.lst\", sep=\"\\t\", index=False, header=False\n",
    "    )\n",
    "    \n",
    "to_metadata_file(df_train.copy(), \"train\")\n",
    "to_metadata_file(df_test.copy(), \"test\")"
   ]
  },
  {
   "cell_type": "markdown",
   "metadata": {},
   "source": [
    "We can also upload our manifest files:"
   ]
  },
  {
   "cell_type": "code",
   "execution_count": 90,
   "metadata": {
    "execution": {
     "iopub.execute_input": "2025-08-20T00:06:07.083296Z",
     "iopub.status.busy": "2025-08-20T00:06:07.082773Z",
     "iopub.status.idle": "2025-08-20T00:06:07.490948Z",
     "shell.execute_reply": "2025-08-20T00:06:07.490285Z",
     "shell.execute_reply.started": "2025-08-20T00:06:07.083263Z"
    }
   },
   "outputs": [],
   "source": [
    "import boto3\n",
    "\n",
    "# Upload files\n",
    "boto3.Session().resource('s3').Bucket(\n",
    "    bucket).Object('train.lst').upload_file('./train.lst')\n",
    "boto3.Session().resource('s3').Bucket(\n",
    "    bucket).Object('test.lst').upload_file('./test.lst')"
   ]
  },
  {
   "cell_type": "markdown",
   "metadata": {},
   "source": [
    "Using the `bucket` and `region` info we can get the latest prebuilt container to run our training job, and define an output location on our s3 bucket for the model. Use the `image_uris` function from the SageMaker SDK to retrieve the latest `image-classification` image below:"
   ]
  },
  {
   "cell_type": "code",
   "execution_count": 91,
   "metadata": {
    "execution": {
     "iopub.execute_input": "2025-08-20T00:06:07.492925Z",
     "iopub.status.busy": "2025-08-20T00:06:07.492381Z",
     "iopub.status.idle": "2025-08-20T00:06:07.548583Z",
     "shell.execute_reply": "2025-08-20T00:06:07.547600Z",
     "shell.execute_reply.started": "2025-08-20T00:06:07.492899Z"
    }
   },
   "outputs": [
    {
     "name": "stderr",
     "output_type": "stream",
     "text": [
      "INFO:sagemaker.image_uris:Same images used for training and inference. Defaulting to image scope: inference.\n",
      "INFO:sagemaker.image_uris:Ignoring unnecessary instance type: None.\n"
     ]
    }
   ],
   "source": [
    "# Use the image_uris function to retrieve the latest 'image-classification' image \n",
    "algo_image = sagemaker.image_uris.retrieve(\"image-classification\", region, \"latest\")\n",
    "s3_output_location = f\"s3://{bucket}/models/image_model\""
   ]
  },
  {
   "cell_type": "markdown",
   "metadata": {},
   "source": [
    "We're ready to create an estimator! Create an estimator `img_classifier_model` that uses one instance of `ml.p3.2xlarge`. Ensure that y ou use the output location we defined above - we'll be referring to that later!"
   ]
  },
  {
   "cell_type": "code",
   "execution_count": 92,
   "metadata": {
    "execution": {
     "iopub.execute_input": "2025-08-20T00:06:07.550093Z",
     "iopub.status.busy": "2025-08-20T00:06:07.549600Z",
     "iopub.status.idle": "2025-08-20T00:06:07.565888Z",
     "shell.execute_reply": "2025-08-20T00:06:07.565054Z",
     "shell.execute_reply.started": "2025-08-20T00:06:07.550060Z"
    }
   },
   "outputs": [
    {
     "data": {
      "text/plain": [
       "<sagemaker.estimator.Estimator at 0x7f833532cc20>"
      ]
     },
     "execution_count": 92,
     "metadata": {},
     "output_type": "execute_result"
    }
   ],
   "source": [
    "img_classifier_model=sagemaker.estimator.Estimator(\n",
    "    algo_image,\n",
    "    role,\n",
    "    instance_count=1,\n",
    "    instance_type=\"ml.p3.2xlarge\",\n",
    "    output_path=s3_output_location,\n",
    "    sagemaker_session=session\n",
    ")\n",
    "\n",
    "img_classifier_model"
   ]
  },
  {
   "cell_type": "markdown",
   "metadata": {},
   "source": [
    "We can also set a few key hyperparameters and define the inputs for our model:"
   ]
  },
  {
   "cell_type": "code",
   "execution_count": 93,
   "metadata": {
    "execution": {
     "iopub.execute_input": "2025-08-20T00:06:08.054877Z",
     "iopub.status.busy": "2025-08-20T00:06:08.053988Z",
     "iopub.status.idle": "2025-08-20T00:06:08.058128Z",
     "shell.execute_reply": "2025-08-20T00:06:08.057341Z",
     "shell.execute_reply.started": "2025-08-20T00:06:08.054849Z"
    }
   },
   "outputs": [],
   "source": [
    "img_classifier_model.set_hyperparameters(\n",
    "    image_shape= '3,32,32',\n",
    "    num_classes= 2, \n",
    "    num_training_samples= df_train.shape[0]\n",
    ")"
   ]
  },
  {
   "cell_type": "markdown",
   "metadata": {},
   "source": [
    "The `image-classification` image uses four input channels with very specific input parameters. For convenience, we've provided them below:"
   ]
  },
  {
   "cell_type": "code",
   "execution_count": 94,
   "metadata": {
    "execution": {
     "iopub.execute_input": "2025-08-20T00:06:09.592863Z",
     "iopub.status.busy": "2025-08-20T00:06:09.592215Z",
     "iopub.status.idle": "2025-08-20T00:06:09.597533Z",
     "shell.execute_reply": "2025-08-20T00:06:09.596656Z",
     "shell.execute_reply.started": "2025-08-20T00:06:09.592834Z"
    }
   },
   "outputs": [],
   "source": [
    "from sagemaker.debugger import Rule, rule_configs\n",
    "from sagemaker.session import TrainingInput\n",
    "model_inputs = {\n",
    "        \"train\": sagemaker.inputs.TrainingInput(\n",
    "            s3_data=f\"s3://{bucket}/train/\",\n",
    "            content_type=\"application/x-image\"\n",
    "        ),\n",
    "        \"validation\": sagemaker.inputs.TrainingInput(\n",
    "            s3_data=f\"s3://{bucket}/test/\",\n",
    "            content_type=\"application/x-image\"\n",
    "        ),\n",
    "        \"train_lst\": sagemaker.inputs.TrainingInput(\n",
    "            s3_data=f\"s3://{bucket}/train.lst\",\n",
    "            content_type=\"application/x-image\"\n",
    "        ),\n",
    "        \"validation_lst\": sagemaker.inputs.TrainingInput(\n",
    "            s3_data=f\"s3://{bucket}/test.lst\",\n",
    "            content_type=\"application/x-image\"\n",
    "        )\n",
    "}"
   ]
  },
  {
   "cell_type": "markdown",
   "metadata": {},
   "source": [
    "Great, now we can train the model using the model_inputs. In the cell below, call the `fit` method on our model,:"
   ]
  },
  {
   "cell_type": "code",
   "execution_count": 95,
   "metadata": {
    "execution": {
     "iopub.execute_input": "2025-08-20T00:06:11.525600Z",
     "iopub.status.busy": "2025-08-20T00:06:11.524925Z",
     "iopub.status.idle": "2025-08-20T00:19:34.525779Z",
     "shell.execute_reply": "2025-08-20T00:19:34.524932Z",
     "shell.execute_reply.started": "2025-08-20T00:06:11.525572Z"
    }
   },
   "outputs": [
    {
     "name": "stderr",
     "output_type": "stream",
     "text": [
      "INFO:sagemaker.telemetry.telemetry_logging:SageMaker Python SDK will collect telemetry to help us better understand our user's needs, diagnose issues, and deliver additional features.\n",
      "To opt out of telemetry, please disable via TelemetryOptOut parameter in SDK defaults config. For more information, refer to https://sagemaker.readthedocs.io/en/stable/overview.html#configuring-and-using-defaults-with-the-sagemaker-python-sdk.\n",
      "INFO:sagemaker:Creating training-job with name: image-classification-2025-08-20-00-06-11-528\n"
     ]
    },
    {
     "name": "stdout",
     "output_type": "stream",
     "text": [
      "2025-08-20 00:06:11 Starting - Starting the training job...\n",
      "2025-08-20 00:06:26 Pending - Training job waiting for capacity........................\n",
      "2025-08-20 00:10:36 Pending - Preparing the instances for training...\n",
      "2025-08-20 00:11:04 Downloading - Downloading input data...\n",
      "2025-08-20 00:11:29 Downloading - Downloading the training image.....................\n",
      "2025-08-20 00:14:51 Training - Training image download completed. Training in progress..\u001b[34mDocker entrypoint called with argument(s): train\u001b[0m\n",
      "\u001b[34mRunning default environment configuration script\u001b[0m\n",
      "\u001b[34mNvidia gpu devices, drivers and cuda toolkit versions (only available on hosts with GPU):\u001b[0m\n",
      "\u001b[34mWed Aug 20 00:15:19 2025       \u001b[0m\n",
      "\u001b[34m+-----------------------------------------------------------------------------------------+\u001b[0m\n",
      "\u001b[34m| NVIDIA-SMI 570.172.08             Driver Version: 570.172.08     CUDA Version: 12.8     |\u001b[0m\n",
      "\u001b[34m|-----------------------------------------+------------------------+----------------------+\u001b[0m\n",
      "\u001b[34m| GPU  Name                 Persistence-M | Bus-Id          Disp.A | Volatile Uncorr. ECC |\u001b[0m\n",
      "\u001b[34m| Fan  Temp   Perf          Pwr:Usage/Cap |           Memory-Usage | GPU-Util  Compute M. |\u001b[0m\n",
      "\u001b[34m|                                         |                        |               MIG M. |\u001b[0m\n",
      "\u001b[34m|=========================================+========================+======================|\u001b[0m\n",
      "\u001b[34m|   0  Tesla V100-SXM2-16GB           On  |   00000000:00:1E.0 Off |                    0 |\u001b[0m\n",
      "\u001b[34m| N/A   34C    P0             24W /  300W |       0MiB /  16384MiB |      0%      Default |\u001b[0m\n",
      "\u001b[34m|                                         |                        |                  N/A |\u001b[0m\n",
      "\u001b[34m+-----------------------------------------+------------------------+----------------------+\n",
      "                                                                                         \u001b[0m\n",
      "\u001b[34m+-----------------------------------------------------------------------------------------+\u001b[0m\n",
      "\u001b[34m| Processes:                                                                              |\u001b[0m\n",
      "\u001b[34m|  GPU   GI   CI              PID   Type   Process name                        GPU Memory |\u001b[0m\n",
      "\u001b[34m|        ID   ID                                                               Usage      |\u001b[0m\n",
      "\u001b[34m|=========================================================================================|\u001b[0m\n",
      "\u001b[34m|  No running processes found                                                             |\u001b[0m\n",
      "\u001b[34m+-----------------------------------------------------------------------------------------+\u001b[0m\n",
      "\u001b[34mChecking for nvidia driver and cuda compatibility.\u001b[0m\n",
      "\u001b[34mCUDA Compatibility driver provided.\u001b[0m\n",
      "\u001b[34mProceeding with compatibility check between driver, cuda-toolkit and cuda-compat.\u001b[0m\n",
      "\u001b[34mDetected cuda-toolkit version: 11.1.\u001b[0m\n",
      "\u001b[34mDetected cuda-compat version: 455.32.00.\u001b[0m\n",
      "\u001b[34mDetected Nvidia driver version: 570.172.08.\u001b[0m\n",
      "\u001b[34mNvidia driver compatible with cuda-toolkit. Disabling cuda-compat.\u001b[0m\n",
      "\u001b[34m/opt/amazon/lib/python3.8/site-packages/mxnet/model.py:97: SyntaxWarning: \"is\" with a literal. Did you mean \"==\"?\n",
      "  if num_device is 1 and 'dist' not in kvstore:\u001b[0m\n",
      "\u001b[34m[08/20/2025 00:15:23 INFO 140247864162112] Reading default configuration from /opt/amazon/lib/python3.8/site-packages/image_classification/default-input.json: {'use_pretrained_model': 0, 'num_layers': 152, 'epochs': 30, 'learning_rate': 0.1, 'lr_scheduler_factor': 0.1, 'optimizer': 'sgd', 'momentum': 0, 'weight_decay': 0.0001, 'beta_1': 0.9, 'beta_2': 0.999, 'eps': 1e-08, 'gamma': 0.9, 'mini_batch_size': 32, 'image_shape': '3,224,224', 'precision_dtype': 'float32'}\u001b[0m\n",
      "\u001b[34m[08/20/2025 00:15:23 INFO 140247864162112] Merging with provided configuration from /opt/ml/input/config/hyperparameters.json: {'image_shape': '3,32,32', 'num_classes': '2', 'num_training_samples': '1000'}\u001b[0m\n",
      "\u001b[34m[08/20/2025 00:15:23 INFO 140247864162112] Final configuration: {'use_pretrained_model': 0, 'num_layers': 152, 'epochs': 30, 'learning_rate': 0.1, 'lr_scheduler_factor': 0.1, 'optimizer': 'sgd', 'momentum': 0, 'weight_decay': 0.0001, 'beta_1': 0.9, 'beta_2': 0.999, 'eps': 1e-08, 'gamma': 0.9, 'mini_batch_size': 32, 'image_shape': '3,32,32', 'precision_dtype': 'float32', 'num_classes': '2', 'num_training_samples': '1000'}\u001b[0m\n",
      "\u001b[34m[08/20/2025 00:15:23 INFO 140247864162112] Searching for .lst files in /opt/ml/input/data/train_lst.\u001b[0m\n",
      "\u001b[34m[08/20/2025 00:15:23 INFO 140247864162112] Creating record files for train.lst\u001b[0m\n",
      "\u001b[34m[08/20/2025 00:15:23 INFO 140247864162112] Done creating record files...\u001b[0m\n",
      "\u001b[34m[08/20/2025 00:15:23 INFO 140247864162112] Searching for .lst files in /opt/ml/input/data/validation_lst.\u001b[0m\n",
      "\u001b[34m[08/20/2025 00:15:23 INFO 140247864162112] Creating record files for test.lst\u001b[0m\n",
      "\u001b[34m[08/20/2025 00:15:23 INFO 140247864162112] Done creating record files...\u001b[0m\n",
      "\u001b[34m[08/20/2025 00:15:23 INFO 140247864162112] use_pretrained_model: 0\u001b[0m\n",
      "\u001b[34m[08/20/2025 00:15:23 INFO 140247864162112] multi_label: 0\u001b[0m\n",
      "\u001b[34m[08/20/2025 00:15:23 INFO 140247864162112] Performing random weight initialization\u001b[0m\n",
      "\u001b[34m[08/20/2025 00:15:23 INFO 140247864162112] ---- Parameters ----\u001b[0m\n",
      "\u001b[34m[08/20/2025 00:15:23 INFO 140247864162112] num_layers: 152\u001b[0m\n",
      "\u001b[34m[08/20/2025 00:15:23 INFO 140247864162112] data type: <class 'numpy.float32'>\u001b[0m\n",
      "\u001b[34m[08/20/2025 00:15:23 INFO 140247864162112] epochs: 30\u001b[0m\n",
      "\u001b[34m[08/20/2025 00:15:23 INFO 140247864162112] optimizer: sgd\u001b[0m\n",
      "\u001b[34m[08/20/2025 00:15:23 INFO 140247864162112] momentum: 0.9\u001b[0m\n",
      "\u001b[34m[08/20/2025 00:15:23 INFO 140247864162112] weight_decay: 0.0001\u001b[0m\n",
      "\u001b[34m[08/20/2025 00:15:23 INFO 140247864162112] learning_rate: 0.1\u001b[0m\n",
      "\u001b[34m[08/20/2025 00:15:23 INFO 140247864162112] num_training_samples: 1000\u001b[0m\n",
      "\u001b[34m[08/20/2025 00:15:23 INFO 140247864162112] mini_batch_size: 32\u001b[0m\n",
      "\u001b[34m[08/20/2025 00:15:23 INFO 140247864162112] image_shape: 3,32,32\u001b[0m\n",
      "\u001b[34m[08/20/2025 00:15:23 INFO 140247864162112] num_classes: 2\u001b[0m\n",
      "\u001b[34m[08/20/2025 00:15:23 INFO 140247864162112] augmentation_type: None\u001b[0m\n",
      "\u001b[34m[08/20/2025 00:15:23 INFO 140247864162112] kv_store: device\u001b[0m\n",
      "\u001b[34m[08/20/2025 00:15:23 INFO 140247864162112] checkpoint_frequency not set, will store the best model\u001b[0m\n",
      "\u001b[34m[08/20/2025 00:15:23 INFO 140247864162112] --------------------\u001b[0m\n",
      "\u001b[34m/opt/amazon/python3.8/lib/python3.8/subprocess.py:848: RuntimeWarning: line buffering (buffering=1) isn't supported in binary mode, the default buffer size will be used\n",
      "  self.stdout = io.open(c2pread, 'rb', bufsize)\u001b[0m\n",
      "\u001b[34m[08/20/2025 00:15:23 INFO 140247864162112] Setting number of threads: 7\u001b[0m\n",
      "\u001b[34m[00:15:27] /opt/brazil-pkg-cache/packages/AIAlgorithmsMXNet/AIAlgorithmsMXNet-1.4.x_ecl_Cuda_11.1.x.441.0/AL2_x86_64/generic-flavor/src/src/operator/nn/./cudnn/./cudnn_algoreg-inl.h:97: Running performance tests to find the best convolution algorithm, this can take a while... (setting env variable MXNET_CUDNN_AUTOTUNE_DEFAULT to 0 to disable)\u001b[0m\n",
      "\u001b[34m[08/20/2025 00:15:33 INFO 140247864162112] Epoch[0] Batch [20]#011Speed: 119.778 samples/sec#011accuracy=0.535714\u001b[0m\n",
      "\u001b[34m[08/20/2025 00:15:34 INFO 140247864162112] Epoch[0] Train-accuracy=0.551411\u001b[0m\n",
      "\u001b[34m[08/20/2025 00:15:34 INFO 140247864162112] Epoch[0] Time cost=7.085\u001b[0m\n",
      "\u001b[34m[08/20/2025 00:15:35 INFO 140247864162112] Epoch[0] Validation-accuracy=0.494792\u001b[0m\n",
      "\u001b[34m[08/20/2025 00:15:35 INFO 140247864162112] Storing the best model with validation accuracy: 0.494792\u001b[0m\n",
      "\u001b[34m[08/20/2025 00:15:36 INFO 140247864162112] Saved checkpoint to \"/opt/ml/model/image-classification-0001.params\"\u001b[0m\n",
      "\u001b[34m[08/20/2025 00:15:39 INFO 140247864162112] Epoch[1] Batch [20]#011Speed: 182.170 samples/sec#011accuracy=0.723214\u001b[0m\n",
      "\u001b[34m[08/20/2025 00:15:41 INFO 140247864162112] Epoch[1] Train-accuracy=0.712702\u001b[0m\n",
      "\u001b[34m[08/20/2025 00:15:41 INFO 140247864162112] Epoch[1] Time cost=5.258\u001b[0m\n",
      "\u001b[34m[08/20/2025 00:15:42 INFO 140247864162112] Epoch[1] Validation-accuracy=0.500000\u001b[0m\n",
      "\u001b[34m[08/20/2025 00:15:42 INFO 140247864162112] Storing the best model with validation accuracy: 0.500000\u001b[0m\n",
      "\u001b[34m[08/20/2025 00:15:42 INFO 140247864162112] Saved checkpoint to \"/opt/ml/model/image-classification-0002.params\"\u001b[0m\n",
      "\u001b[34m[08/20/2025 00:15:46 INFO 140247864162112] Epoch[2] Batch [20]#011Speed: 182.743 samples/sec#011accuracy=0.666667\u001b[0m\n",
      "\u001b[34m[08/20/2025 00:15:47 INFO 140247864162112] Epoch[2] Train-accuracy=0.670363\u001b[0m\n",
      "\u001b[34m[08/20/2025 00:15:47 INFO 140247864162112] Epoch[2] Time cost=5.223\u001b[0m\n",
      "\u001b[34m[08/20/2025 00:15:48 INFO 140247864162112] Epoch[2] Validation-accuracy=0.781250\u001b[0m\n",
      "\u001b[34m[08/20/2025 00:15:48 INFO 140247864162112] Storing the best model with validation accuracy: 0.781250\u001b[0m\n",
      "\u001b[34m[08/20/2025 00:15:49 INFO 140247864162112] Saved checkpoint to \"/opt/ml/model/image-classification-0003.params\"\u001b[0m\n",
      "\u001b[34m[08/20/2025 00:15:52 INFO 140247864162112] Epoch[3] Batch [20]#011Speed: 179.201 samples/sec#011accuracy=0.748512\u001b[0m\n",
      "\u001b[34m[08/20/2025 00:15:54 INFO 140247864162112] Epoch[3] Train-accuracy=0.758065\u001b[0m\n",
      "\u001b[34m[08/20/2025 00:15:54 INFO 140247864162112] Epoch[3] Time cost=5.285\u001b[0m\n",
      "\u001b[34m[08/20/2025 00:15:54 INFO 140247864162112] Epoch[3] Validation-accuracy=0.834821\u001b[0m\n",
      "\u001b[34m[08/20/2025 00:15:55 INFO 140247864162112] Storing the best model with validation accuracy: 0.834821\u001b[0m\n",
      "\u001b[34m[08/20/2025 00:15:55 INFO 140247864162112] Saved checkpoint to \"/opt/ml/model/image-classification-0004.params\"\u001b[0m\n",
      "\u001b[34m[08/20/2025 00:15:59 INFO 140247864162112] Epoch[4] Batch [20]#011Speed: 180.711 samples/sec#011accuracy=0.776786\u001b[0m\n",
      "\u001b[34m[08/20/2025 00:16:00 INFO 140247864162112] Epoch[4] Train-accuracy=0.771169\u001b[0m\n",
      "\u001b[34m[08/20/2025 00:16:00 INFO 140247864162112] Epoch[4] Time cost=5.273\u001b[0m\n",
      "\u001b[34m[08/20/2025 00:16:01 INFO 140247864162112] Epoch[4] Validation-accuracy=0.791667\u001b[0m\n",
      "\u001b[34m[08/20/2025 00:16:05 INFO 140247864162112] Epoch[5] Batch [20]#011Speed: 181.911 samples/sec#011accuracy=0.811012\u001b[0m\n",
      "\u001b[34m[08/20/2025 00:16:07 INFO 140247864162112] Epoch[5] Train-accuracy=0.802419\u001b[0m\n",
      "\u001b[34m[08/20/2025 00:16:07 INFO 140247864162112] Epoch[5] Time cost=5.218\u001b[0m\n",
      "\u001b[34m[08/20/2025 00:16:07 INFO 140247864162112] Epoch[5] Validation-accuracy=0.739583\u001b[0m\n",
      "\u001b[34m[08/20/2025 00:16:11 INFO 140247864162112] Epoch[6] Batch [20]#011Speed: 181.878 samples/sec#011accuracy=0.815476\u001b[0m\n",
      "\u001b[34m[08/20/2025 00:16:13 INFO 140247864162112] Epoch[6] Train-accuracy=0.809476\u001b[0m\n",
      "\u001b[34m[08/20/2025 00:16:13 INFO 140247864162112] Epoch[6] Time cost=5.261\u001b[0m\n",
      "\u001b[34m[08/20/2025 00:16:13 INFO 140247864162112] Epoch[6] Validation-accuracy=0.817708\u001b[0m\n",
      "\u001b[34m[08/20/2025 00:16:17 INFO 140247864162112] Epoch[7] Batch [20]#011Speed: 181.988 samples/sec#011accuracy=0.827381\u001b[0m\n",
      "\u001b[34m[08/20/2025 00:16:19 INFO 140247864162112] Epoch[7] Train-accuracy=0.821573\u001b[0m\n",
      "\u001b[34m[08/20/2025 00:16:19 INFO 140247864162112] Epoch[7] Time cost=5.235\u001b[0m\n",
      "\u001b[34m[08/20/2025 00:16:20 INFO 140247864162112] Epoch[7] Validation-accuracy=0.794643\u001b[0m\n",
      "\u001b[34m[08/20/2025 00:16:24 INFO 140247864162112] Epoch[8] Batch [20]#011Speed: 181.343 samples/sec#011accuracy=0.813988\u001b[0m\n",
      "\u001b[34m[08/20/2025 00:16:25 INFO 140247864162112] Epoch[8] Train-accuracy=0.824597\u001b[0m\n",
      "\u001b[34m[08/20/2025 00:16:25 INFO 140247864162112] Epoch[8] Time cost=5.263\u001b[0m\n",
      "\u001b[34m[08/20/2025 00:16:26 INFO 140247864162112] Epoch[8] Validation-accuracy=0.838542\u001b[0m\n",
      "\u001b[34m[08/20/2025 00:16:26 INFO 140247864162112] Storing the best model with validation accuracy: 0.838542\u001b[0m\n",
      "\u001b[34m[08/20/2025 00:16:27 INFO 140247864162112] Saved checkpoint to \"/opt/ml/model/image-classification-0009.params\"\u001b[0m\n",
      "\u001b[34m[08/20/2025 00:16:30 INFO 140247864162112] Epoch[9] Batch [20]#011Speed: 181.027 samples/sec#011accuracy=0.863095\u001b[0m\n",
      "\u001b[34m[08/20/2025 00:16:32 INFO 140247864162112] Epoch[9] Train-accuracy=0.855847\u001b[0m\n",
      "\u001b[34m[08/20/2025 00:16:32 INFO 140247864162112] Epoch[9] Time cost=5.241\u001b[0m\n",
      "\u001b[34m[08/20/2025 00:16:32 INFO 140247864162112] Epoch[9] Validation-accuracy=0.822917\u001b[0m\n",
      "\u001b[34m[08/20/2025 00:16:36 INFO 140247864162112] Epoch[10] Batch [20]#011Speed: 181.951 samples/sec#011accuracy=0.843750\u001b[0m\n",
      "\u001b[34m[08/20/2025 00:16:38 INFO 140247864162112] Epoch[10] Train-accuracy=0.846774\u001b[0m\n",
      "\u001b[34m[08/20/2025 00:16:38 INFO 140247864162112] Epoch[10] Time cost=5.239\u001b[0m\n",
      "\u001b[34m[08/20/2025 00:16:38 INFO 140247864162112] Epoch[10] Validation-accuracy=0.776042\u001b[0m\n",
      "\u001b[34m[08/20/2025 00:16:42 INFO 140247864162112] Epoch[11] Batch [20]#011Speed: 181.855 samples/sec#011accuracy=0.864583\u001b[0m\n",
      "\u001b[34m[08/20/2025 00:16:44 INFO 140247864162112] Epoch[11] Train-accuracy=0.859879\u001b[0m\n",
      "\u001b[34m[08/20/2025 00:16:44 INFO 140247864162112] Epoch[11] Time cost=5.239\u001b[0m\n",
      "\u001b[34m[08/20/2025 00:16:45 INFO 140247864162112] Epoch[11] Validation-accuracy=0.794643\u001b[0m\n",
      "\u001b[34m[08/20/2025 00:16:49 INFO 140247864162112] Epoch[12] Batch [20]#011Speed: 181.490 samples/sec#011accuracy=0.879464\u001b[0m\n",
      "\u001b[34m[08/20/2025 00:16:50 INFO 140247864162112] Epoch[12] Train-accuracy=0.884073\u001b[0m\n",
      "\u001b[34m[08/20/2025 00:16:50 INFO 140247864162112] Epoch[12] Time cost=5.254\u001b[0m\n",
      "\u001b[34m[08/20/2025 00:16:51 INFO 140247864162112] Epoch[12] Validation-accuracy=0.833333\u001b[0m\n",
      "\u001b[34m[08/20/2025 00:16:55 INFO 140247864162112] Epoch[13] Batch [20]#011Speed: 182.130 samples/sec#011accuracy=0.870536\u001b[0m\n",
      "\u001b[34m[08/20/2025 00:16:57 INFO 140247864162112] Epoch[13] Train-accuracy=0.876008\u001b[0m\n",
      "\u001b[34m[08/20/2025 00:16:57 INFO 140247864162112] Epoch[13] Time cost=5.236\u001b[0m\n",
      "\u001b[34m[08/20/2025 00:16:57 INFO 140247864162112] Epoch[13] Validation-accuracy=0.848958\u001b[0m\n",
      "\u001b[34m[08/20/2025 00:16:57 INFO 140247864162112] Storing the best model with validation accuracy: 0.848958\u001b[0m\n",
      "\u001b[34m[08/20/2025 00:16:58 INFO 140247864162112] Saved checkpoint to \"/opt/ml/model/image-classification-0014.params\"\u001b[0m\n",
      "\u001b[34m[08/20/2025 00:17:01 INFO 140247864162112] Epoch[14] Batch [20]#011Speed: 182.153 samples/sec#011accuracy=0.898810\u001b[0m\n",
      "\u001b[34m[08/20/2025 00:17:03 INFO 140247864162112] Epoch[14] Train-accuracy=0.897177\u001b[0m\n",
      "\u001b[34m[08/20/2025 00:17:03 INFO 140247864162112] Epoch[14] Time cost=5.254\u001b[0m\n",
      "\u001b[34m[08/20/2025 00:17:04 INFO 140247864162112] Epoch[14] Validation-accuracy=0.848958\u001b[0m\n",
      "\u001b[34m[08/20/2025 00:17:07 INFO 140247864162112] Epoch[15] Batch [20]#011Speed: 182.182 samples/sec#011accuracy=0.910714\u001b[0m\n",
      "\u001b[34m[08/20/2025 00:17:09 INFO 140247864162112] Epoch[15] Train-accuracy=0.889113\u001b[0m\n",
      "\u001b[34m[08/20/2025 00:17:09 INFO 140247864162112] Epoch[15] Time cost=5.245\u001b[0m\n",
      "\u001b[34m[08/20/2025 00:17:10 INFO 140247864162112] Epoch[15] Validation-accuracy=0.794643\u001b[0m\n",
      "\u001b[34m[08/20/2025 00:17:14 INFO 140247864162112] Epoch[16] Batch [20]#011Speed: 181.817 samples/sec#011accuracy=0.922619\u001b[0m\n",
      "\u001b[34m[08/20/2025 00:17:15 INFO 140247864162112] Epoch[16] Train-accuracy=0.909274\u001b[0m\n",
      "\u001b[34m[08/20/2025 00:17:15 INFO 140247864162112] Epoch[16] Time cost=5.239\u001b[0m\n",
      "\u001b[34m[08/20/2025 00:17:16 INFO 140247864162112] Epoch[16] Validation-accuracy=0.796875\u001b[0m\n",
      "\u001b[34m[08/20/2025 00:17:20 INFO 140247864162112] Epoch[17] Batch [20]#011Speed: 182.252 samples/sec#011accuracy=0.934524\u001b[0m\n",
      "\u001b[34m[08/20/2025 00:17:22 INFO 140247864162112] Epoch[17] Train-accuracy=0.933468\u001b[0m\n",
      "\u001b[34m[08/20/2025 00:17:22 INFO 140247864162112] Epoch[17] Time cost=5.233\u001b[0m\n",
      "\u001b[34m[08/20/2025 00:17:22 INFO 140247864162112] Epoch[17] Validation-accuracy=0.807292\u001b[0m\n",
      "\u001b[34m[08/20/2025 00:17:26 INFO 140247864162112] Epoch[18] Batch [20]#011Speed: 180.703 samples/sec#011accuracy=0.898810\u001b[0m\n",
      "\u001b[34m[08/20/2025 00:17:28 INFO 140247864162112] Epoch[18] Train-accuracy=0.903226\u001b[0m\n",
      "\u001b[34m[08/20/2025 00:17:28 INFO 140247864162112] Epoch[18] Time cost=5.276\u001b[0m\n",
      "\u001b[34m[08/20/2025 00:17:28 INFO 140247864162112] Epoch[18] Validation-accuracy=0.843750\u001b[0m\n",
      "\u001b[34m[08/20/2025 00:17:32 INFO 140247864162112] Epoch[19] Batch [20]#011Speed: 179.868 samples/sec#011accuracy=0.961310\u001b[0m\n",
      "\u001b[34m[08/20/2025 00:17:34 INFO 140247864162112] Epoch[19] Train-accuracy=0.951613\u001b[0m\n",
      "\u001b[34m[08/20/2025 00:17:34 INFO 140247864162112] Epoch[19] Time cost=5.272\u001b[0m\n",
      "\u001b[34m[08/20/2025 00:17:35 INFO 140247864162112] Epoch[19] Validation-accuracy=0.816964\u001b[0m\n",
      "\u001b[34m[08/20/2025 00:17:39 INFO 140247864162112] Epoch[20] Batch [20]#011Speed: 182.466 samples/sec#011accuracy=0.944940\u001b[0m\n",
      "\u001b[34m[08/20/2025 00:17:41 INFO 140247864162112] Epoch[20] Train-accuracy=0.934476\u001b[0m\n",
      "\u001b[34m[08/20/2025 00:17:41 INFO 140247864162112] Epoch[20] Time cost=5.242\u001b[0m\n",
      "\u001b[34m[08/20/2025 00:17:41 INFO 140247864162112] Epoch[20] Validation-accuracy=0.776042\u001b[0m\n",
      "\u001b[34m[08/20/2025 00:17:45 INFO 140247864162112] Epoch[21] Batch [20]#011Speed: 181.897 samples/sec#011accuracy=0.934524\u001b[0m\n",
      "\u001b[34m[08/20/2025 00:17:47 INFO 140247864162112] Epoch[21] Train-accuracy=0.937500\u001b[0m\n",
      "\u001b[34m[08/20/2025 00:17:47 INFO 140247864162112] Epoch[21] Time cost=5.251\u001b[0m\n",
      "\u001b[34m[08/20/2025 00:17:47 INFO 140247864162112] Epoch[21] Validation-accuracy=0.833333\u001b[0m\n",
      "\u001b[34m[08/20/2025 00:17:51 INFO 140247864162112] Epoch[22] Batch [20]#011Speed: 182.168 samples/sec#011accuracy=0.961310\u001b[0m\n",
      "\u001b[34m[08/20/2025 00:17:53 INFO 140247864162112] Epoch[22] Train-accuracy=0.960685\u001b[0m\n",
      "\u001b[34m[08/20/2025 00:17:53 INFO 140247864162112] Epoch[22] Time cost=5.234\u001b[0m\n",
      "\u001b[34m[08/20/2025 00:17:53 INFO 140247864162112] Epoch[22] Validation-accuracy=0.807292\u001b[0m\n",
      "\u001b[34m[08/20/2025 00:17:57 INFO 140247864162112] Epoch[23] Batch [20]#011Speed: 182.680 samples/sec#011accuracy=0.964286\u001b[0m\n",
      "\u001b[34m[08/20/2025 00:17:59 INFO 140247864162112] Epoch[23] Train-accuracy=0.953629\u001b[0m\n",
      "\u001b[34m[08/20/2025 00:17:59 INFO 140247864162112] Epoch[23] Time cost=5.199\u001b[0m\n",
      "\u001b[34m[08/20/2025 00:18:00 INFO 140247864162112] Epoch[23] Validation-accuracy=0.816964\u001b[0m\n",
      "\u001b[34m[08/20/2025 00:18:04 INFO 140247864162112] Epoch[24] Batch [20]#011Speed: 178.277 samples/sec#011accuracy=0.937500\u001b[0m\n",
      "\u001b[34m[08/20/2025 00:18:05 INFO 140247864162112] Epoch[24] Train-accuracy=0.941532\u001b[0m\n",
      "\u001b[34m[08/20/2025 00:18:05 INFO 140247864162112] Epoch[24] Time cost=5.296\u001b[0m\n",
      "\u001b[34m[08/20/2025 00:18:06 INFO 140247864162112] Epoch[24] Validation-accuracy=0.822917\u001b[0m\n",
      "\u001b[34m[08/20/2025 00:18:10 INFO 140247864162112] Epoch[25] Batch [20]#011Speed: 182.578 samples/sec#011accuracy=0.974702\u001b[0m\n",
      "\u001b[34m[08/20/2025 00:18:12 INFO 140247864162112] Epoch[25] Train-accuracy=0.971774\u001b[0m\n",
      "\u001b[34m[08/20/2025 00:18:12 INFO 140247864162112] Epoch[25] Time cost=5.205\u001b[0m\n",
      "\u001b[34m[08/20/2025 00:18:12 INFO 140247864162112] Epoch[25] Validation-accuracy=0.822917\u001b[0m\n",
      "\u001b[34m[08/20/2025 00:18:16 INFO 140247864162112] Epoch[26] Batch [20]#011Speed: 178.915 samples/sec#011accuracy=0.953869\u001b[0m\n",
      "\u001b[34m[08/20/2025 00:18:18 INFO 140247864162112] Epoch[26] Train-accuracy=0.960685\u001b[0m\n",
      "\u001b[34m[08/20/2025 00:18:18 INFO 140247864162112] Epoch[26] Time cost=5.265\u001b[0m\n",
      "\u001b[34m[08/20/2025 00:18:18 INFO 140247864162112] Epoch[26] Validation-accuracy=0.807292\u001b[0m\n",
      "\u001b[34m[08/20/2025 00:18:22 INFO 140247864162112] Epoch[27] Batch [20]#011Speed: 183.422 samples/sec#011accuracy=0.991071\u001b[0m\n",
      "\u001b[34m[08/20/2025 00:18:24 INFO 140247864162112] Epoch[27] Train-accuracy=0.986895\u001b[0m\n",
      "\u001b[34m[08/20/2025 00:18:24 INFO 140247864162112] Epoch[27] Time cost=5.204\u001b[0m\n",
      "\u001b[34m[08/20/2025 00:18:25 INFO 140247864162112] Epoch[27] Validation-accuracy=0.790179\u001b[0m\n",
      "\u001b[34m[08/20/2025 00:18:29 INFO 140247864162112] Epoch[28] Batch [20]#011Speed: 182.485 samples/sec#011accuracy=0.968750\u001b[0m\n",
      "\u001b[34m[08/20/2025 00:18:30 INFO 140247864162112] Epoch[28] Train-accuracy=0.973790\u001b[0m\n",
      "\u001b[34m[08/20/2025 00:18:30 INFO 140247864162112] Epoch[28] Time cost=5.207\u001b[0m\n",
      "\u001b[34m[08/20/2025 00:18:31 INFO 140247864162112] Epoch[28] Validation-accuracy=0.796875\u001b[0m\n",
      "\u001b[34m[08/20/2025 00:18:35 INFO 140247864162112] Epoch[29] Batch [20]#011Speed: 183.306 samples/sec#011accuracy=0.980655\u001b[0m\n",
      "\u001b[34m[08/20/2025 00:18:36 INFO 140247864162112] Epoch[29] Train-accuracy=0.981855\u001b[0m\n",
      "\u001b[34m[08/20/2025 00:18:36 INFO 140247864162112] Epoch[29] Time cost=5.203\u001b[0m\n",
      "\u001b[34m[08/20/2025 00:18:37 INFO 140247864162112] Epoch[29] Validation-accuracy=0.817708\u001b[0m\n",
      "\n",
      "2025-08-20 00:18:44 Uploading - Uploading generated training model\n",
      "2025-08-20 00:18:57 Completed - Training job completed\n",
      "Training seconds: 474\n",
      "Billable seconds: 474\n"
     ]
    }
   ],
   "source": [
    "img_classifier_model.fit(model_inputs)"
   ]
  },
  {
   "cell_type": "markdown",
   "metadata": {},
   "source": [
    "If all goes well, you'll end up with a model topping out above `.8` validation accuracy. With only 1000 training samples in the CIFAR dataset, that's pretty good. We could definitely pursue data augmentation & gathering more samples to help us improve further, but for now let's proceed to deploy our model.\n",
    "\n",
    "### Getting ready to deploy\n",
    "\n",
    "To begin with, let's configure Model Monitor to track our deployment. We'll define a `DataCaptureConfig` below:"
   ]
  },
  {
   "cell_type": "code",
   "execution_count": 96,
   "metadata": {
    "execution": {
     "iopub.execute_input": "2025-08-20T00:20:11.476826Z",
     "iopub.status.busy": "2025-08-20T00:20:11.475966Z",
     "iopub.status.idle": "2025-08-20T00:20:12.173384Z",
     "shell.execute_reply": "2025-08-20T00:20:12.172645Z",
     "shell.execute_reply.started": "2025-08-20T00:20:11.476795Z"
    }
   },
   "outputs": [],
   "source": [
    "from sagemaker.model_monitor import DataCaptureConfig\n",
    "\n",
    "data_capture_config = DataCaptureConfig(\n",
    "    ## TODO: Set config options\n",
    "    destination_s3_uri=f\"s3://{bucket}/data_capture\",\n",
    "    enable_capture=True,\n",
    "    sampling_percentage=80\n",
    ")"
   ]
  },
  {
   "cell_type": "markdown",
   "metadata": {},
   "source": [
    "Note the `destination_s3_uri` parameter: At the end of the project, we can explore the `data_capture` directory in S3 to find crucial data about the inputs and outputs Model Monitor has observed on our model endpoint over time.\n",
    "\n",
    "With that done, deploy your model on a single `ml.m5.xlarge` instance with the data capture config attached:"
   ]
  },
  {
   "cell_type": "code",
   "execution_count": 98,
   "metadata": {
    "execution": {
     "iopub.execute_input": "2025-08-20T00:20:41.036655Z",
     "iopub.status.busy": "2025-08-20T00:20:41.036298Z",
     "iopub.status.idle": "2025-08-20T00:26:43.675788Z",
     "shell.execute_reply": "2025-08-20T00:26:43.675003Z",
     "shell.execute_reply.started": "2025-08-20T00:20:41.036629Z"
    }
   },
   "outputs": [
    {
     "name": "stderr",
     "output_type": "stream",
     "text": [
      "INFO:sagemaker:Creating model with name: image-classification-2025-08-20-00-20-41-037\n",
      "INFO:sagemaker:Creating endpoint-config with name image-classification-2025-08-20-00-20-41-037\n",
      "INFO:sagemaker:Creating endpoint with name image-classification-2025-08-20-00-20-41-037\n"
     ]
    },
    {
     "name": "stdout",
     "output_type": "stream",
     "text": [
      "-----------!image-classification-2025-08-20-00-20-41-037\n"
     ]
    }
   ],
   "source": [
    "deployment = img_classifier_model.deploy(\n",
    "    ## TODO: fill in deployment options\n",
    "    data_capture_config=data_capture_config,\n",
    "    initial_instance_count=1,\n",
    "    instance_type=\"ml.m5.xlarge\"\n",
    "    )\n",
    "\n",
    "endpoint = deployment.endpoint_name\n",
    "print(endpoint)"
   ]
  },
  {
   "cell_type": "markdown",
   "metadata": {},
   "source": [
    "Note the endpoint name for later as well.\n",
    "\n",
    "Next, instantiate a Predictor:"
   ]
  },
  {
   "cell_type": "code",
   "execution_count": 99,
   "metadata": {
    "execution": {
     "iopub.execute_input": "2025-08-20T00:26:44.195285Z",
     "iopub.status.busy": "2025-08-20T00:26:44.194885Z",
     "iopub.status.idle": "2025-08-20T00:26:44.226472Z",
     "shell.execute_reply": "2025-08-20T00:26:44.225782Z",
     "shell.execute_reply.started": "2025-08-20T00:26:44.195261Z"
    }
   },
   "outputs": [
    {
     "name": "stderr",
     "output_type": "stream",
     "text": [
      "WARNING:sagemaker.deprecations:The class RealTimePredictor has been renamed in sagemaker>=2.\n",
      "See: https://sagemaker.readthedocs.io/en/stable/v2.html for details.\n"
     ]
    }
   ],
   "source": [
    "from sagemaker.predictor import RealTimePredictor\n",
    "predictor = RealTimePredictor(endpoint)"
   ]
  },
  {
   "cell_type": "markdown",
   "metadata": {},
   "source": [
    "In the code snippet below we are going to prepare one of your saved images for prediction. Use the predictor to process the `payload`."
   ]
  },
  {
   "cell_type": "code",
   "execution_count": 100,
   "metadata": {
    "execution": {
     "iopub.execute_input": "2025-08-20T00:26:44.230018Z",
     "iopub.status.busy": "2025-08-20T00:26:44.228486Z",
     "iopub.status.idle": "2025-08-20T00:26:44.562794Z",
     "shell.execute_reply": "2025-08-20T00:26:44.562091Z",
     "shell.execute_reply.started": "2025-08-20T00:26:44.229979Z"
    }
   },
   "outputs": [],
   "source": [
    "from sagemaker.serializers import IdentitySerializer\n",
    "import base64\n",
    "\n",
    "predictor.serializer = IdentitySerializer(\"image/png\")\n",
    "with open(\"./test/bicycle_s_001789.png\", \"rb\") as f:\n",
    "    payload = f.read()\n",
    "\n",
    "    \n",
    "inference = predictor.predict(payload)"
   ]
  },
  {
   "cell_type": "markdown",
   "metadata": {},
   "source": [
    "Your `inference` object is an array of two values, the predicted probability value for each of your classes (bicycle and motorcycle respectively.) So, for example, a value of `b'[0.91, 0.09]'` indicates the probability of being a bike is 91% and being a motorcycle is 9%."
   ]
  },
  {
   "cell_type": "code",
   "execution_count": 101,
   "metadata": {
    "execution": {
     "iopub.execute_input": "2025-08-20T00:26:44.564199Z",
     "iopub.status.busy": "2025-08-20T00:26:44.563783Z",
     "iopub.status.idle": "2025-08-20T00:26:44.567606Z",
     "shell.execute_reply": "2025-08-20T00:26:44.566860Z",
     "shell.execute_reply.started": "2025-08-20T00:26:44.564177Z"
    }
   },
   "outputs": [
    {
     "name": "stdout",
     "output_type": "stream",
     "text": [
      "b'[0.9613085389137268, 0.03869148716330528]'\n"
     ]
    }
   ],
   "source": [
    "print(inference)"
   ]
  },
  {
   "cell_type": "markdown",
   "metadata": {},
   "source": [
    "### Draft Lambdas and Step Function Workflow\n",
    "\n",
    "Your operations team uses Step Functions to orchestrate serverless workflows. One of the nice things about Step Functions is that [workflows can call other workflows](https://docs.aws.amazon.com/step-functions/latest/dg/connect-stepfunctions.html), so the team can easily plug your workflow into the broader production architecture for Scones Unlimited.\n",
    "\n",
    "In this next stage you're going to write and deploy three Lambda functions, and then use the Step Functions visual editor to chain them together! Our functions are going to work with a simple data object:\n",
    "\n",
    "```python\n",
    "{\n",
    "    \"inferences\": [], # Output of predictor.predict\n",
    "    \"s3_key\": \"\", # Source data S3 key\n",
    "    \"s3_bucket\": \"\", # Source data S3 bucket\n",
    "    \"image_data\": \"\"  # base64 encoded string containing the image data\n",
    "}\n",
    "```\n",
    "\n",
    "A good test object that you can use for Lambda tests and Step Function executions, throughout the next section, might look like this:\n",
    "\n",
    "```python\n",
    "{\n",
    "  \"image_data\": \"\",\n",
    "  \"s3_bucket\": MY_BUCKET_NAME, # Fill in with your bucket\n",
    "  \"s3_key\": \"test/bicycle_s_000513.png\"\n",
    "}\n",
    "```\n",
    "\n",
    "Using these fields, your functions can read and write the necessary data to execute your workflow. Let's start with the first function. Your first Lambda function will copy an object from S3, base64 encode it, and then return it to the step function as `image_data` in an event.\n",
    "\n",
    "Go to the Lambda dashboard and create a new Lambda function with a descriptive name like \"serializeImageData\" and select thr 'Python 3.8' runtime. Add the same permissions as the SageMaker role you created earlier. (Reminder: you do this in the Configuration tab under \"Permissions\"). Once you're ready, use the starter code below to craft your Lambda handler:\n",
    "\n",
    "```python\n",
    "import json\n",
    "import boto3\n",
    "import base64\n",
    "\n",
    "s3 = boto3.client('s3')\n",
    "\n",
    "def lambda_handler(event, context):\n",
    "    \"\"\"A function to serialize target data from S3\"\"\"\n",
    "    \n",
    "    # Get the s3 address from the Step Function event input\n",
    "    key = ## TODO: fill in\n",
    "    bucket = ## TODO: fill in\n",
    "    \n",
    "    # Download the data from s3 to /tmp/image.png\n",
    "    ## TODO: fill in\n",
    "    \n",
    "    # We read the data from a file\n",
    "    with open(\"/tmp/image.png\", \"rb\") as f:\n",
    "        image_data = base64.b64encode(f.read())\n",
    "\n",
    "    # Pass the data back to the Step Function\n",
    "    print(\"Event:\", event.keys())\n",
    "    return {\n",
    "        'statusCode': 200,\n",
    "        'body': {\n",
    "            \"image_data\": image_data,\n",
    "            \"s3_bucket\": bucket,\n",
    "            \"s3_key\": key,\n",
    "            \"inferences\": []\n",
    "        }\n",
    "    }\n",
    "```\n",
    "\n",
    "The next function is responsible for the classification part - we're going to take the image output from the previous function, decode it, and then pass inferences back to the the Step Function.\n",
    "\n",
    "Because this Lambda will have runtime dependencies (i.e. the SageMaker SDK) you'll need to package them in your function. *Key reading:* https://docs.aws.amazon.com/lambda/latest/dg/python-package-create.html#python-package-create-with-dependency\n",
    "\n",
    "Create a new Lambda function with the same rights and a descriptive name, then fill in the starter code below for your classifier Lambda.\n",
    "\n",
    "```python\n",
    "import json\n",
    "import sagemaker\n",
    "import base64\n",
    "from sagemaker.serializers import IdentitySerializer\n",
    "\n",
    "# Fill this in with the name of your deployed model\n",
    "ENDPOINT = ## TODO: fill in\n",
    "\n",
    "def lambda_handler(event, context):\n",
    "\n",
    "    # Decode the image data\n",
    "    image = base64.b64decode(## TODO: fill in)\n",
    "\n",
    "    # Instantiate a Predictor\n",
    "    predictor = ## TODO: fill in\n",
    "\n",
    "    # For this model the IdentitySerializer needs to be \"image/png\"\n",
    "    predictor.serializer = IdentitySerializer(\"image/png\")\n",
    "    \n",
    "    # Make a prediction:\n",
    "    inferences = ## TODO: fill in\n",
    "    \n",
    "    # We return the data back to the Step Function    \n",
    "    event[\"inferences\"] = inferences.decode('utf-8')\n",
    "    return {\n",
    "        'statusCode': 200,\n",
    "        'body': json.dumps(event)\n",
    "    }\n",
    "```\n",
    "\n",
    "Finally, we need to filter low-confidence inferences. Define a threshold between 1.00 and 0.000 for your model: what is reasonble for you? If the model predicts at `.70` for it's highest confidence label, do we want to pass that inference along to downstream systems? Make one last Lambda function and tee up the same permissions:\n",
    "\n",
    "```python\n",
    "import json\n",
    "\n",
    "\n",
    "THRESHOLD = .93\n",
    "\n",
    "\n",
    "def lambda_handler(event, context):\n",
    "    \n",
    "    # Grab the inferences from the event\n",
    "    inferences = ## TODO: fill in\n",
    "    \n",
    "    # Check if any values in our inferences are above THRESHOLD\n",
    "    meets_threshold = ## TODO: fill in\n",
    "    \n",
    "    # If our threshold is met, pass our data back out of the\n",
    "    # Step Function, else, end the Step Function with an error\n",
    "    if meets_threshold:\n",
    "        pass\n",
    "    else:\n",
    "        raise(\"THRESHOLD_CONFIDENCE_NOT_MET\")\n",
    "\n",
    "    return {\n",
    "        'statusCode': 200,\n",
    "        'body': json.dumps(event)\n",
    "    }\n",
    "```\n",
    "Once you have tested the lambda functions, save the code for each lambda function in a python script called 'lambda.py'.\n",
    "\n",
    "With your lambdas in place, you can use the Step Functions visual editor to construct a workflow that chains them together. In the Step Functions console you'll have the option to author a Standard step function *Visually*.\n",
    "\n",
    "When the visual editor opens, you'll have many options to add transitions in your workflow. We're going to keep it simple and have just one: to invoke Lambda functions. Add three of them chained together. For each one, you'll be able to select the Lambda functions you just created in the proper order, filter inputs and outputs, and give them descriptive names.\n",
    "\n",
    "Make sure that you:\n",
    "\n",
    "1. Are properly filtering the inputs and outputs of your invokations (e.g. `$.body`)\n",
    "2. Take care to remove the error handling from the last function - it's supposed to \"fail loudly\" for your operations colleagues!\n",
    "\n",
    "Take a screenshot of your working step function in action and export the step function as JSON for your submission package."
   ]
  },
  {
   "cell_type": "markdown",
   "metadata": {},
   "source": [
    "\n",
    "Great! Now you can use the files in `./test` as test files for our workflow. Depending on our threshold, our workflow should reliably pass predictions about images from `./test` on to downstream systems, while erroring out for inferences below our confidence threshold!\n",
    "\n",
    "### Testing and Evaluation\n",
    "\n",
    "Do several step function invokations using data from the `./test` folder. This process should give you confidence that the workflow both *succeeds* AND *fails* as expected. In addition, SageMaker Model Monitor will generate recordings of your data and inferences which we can visualize.\n",
    "\n",
    "Here's a function that can help you generate test inputs for your invokations:"
   ]
  },
  {
   "cell_type": "code",
   "execution_count": 107,
   "metadata": {
    "execution": {
     "iopub.execute_input": "2025-08-20T00:45:28.190165Z",
     "iopub.status.busy": "2025-08-20T00:45:28.189889Z",
     "iopub.status.idle": "2025-08-20T00:45:28.331938Z",
     "shell.execute_reply": "2025-08-20T00:45:28.331189Z",
     "shell.execute_reply.started": "2025-08-20T00:45:28.190143Z"
    }
   },
   "outputs": [
    {
     "data": {
      "text/plain": [
       "'{\"image_data\": \"\", \"s3_bucket\": \"sagemaker-us-east-1-329599635419\", \"s3_key\": \"test/ordinary_bicycle_s_000113.png\"}'"
      ]
     },
     "execution_count": 107,
     "metadata": {},
     "output_type": "execute_result"
    }
   ],
   "source": [
    "import random\n",
    "import boto3\n",
    "import json\n",
    "\n",
    "\n",
    "def generate_test_case():\n",
    "    s3 = boto3.resource('s3')\n",
    "\n",
    "    objects = s3.Bucket(bucket).objects.filter(Prefix=\"test\")\n",
    "\n",
    "    keys = [x.key for x in objects]\n",
    "\n",
    "    if not keys:\n",
    "        raise ValueError(\"No objects found under prefix 'test'.\")\n",
    "\n",
    "    # Randomly select one\n",
    "    obj = random.choice(keys)\n",
    "\n",
    "    return json.dumps({\n",
    "        \"image_data\": \"\",\n",
    "        \"s3_bucket\": bucket,\n",
    "        \"s3_key\": obj\n",
    "    })\n",
    "\n",
    "generate_test_case()"
   ]
  },
  {
   "cell_type": "markdown",
   "metadata": {},
   "source": [
    "In the Step Function dashboard for your new function, you can create new executions and copy in the generated test cases. Do several executions so that you can generate data you can evaluate and visualize.\n",
    "\n",
    "Once you've done several executions, let's visualize the record of our inferences. Pull in the JSONLines data from your inferences like so:"
   ]
  },
  {
   "cell_type": "code",
   "execution_count": 119,
   "metadata": {
    "execution": {
     "iopub.execute_input": "2025-08-20T02:03:31.688624Z",
     "iopub.status.busy": "2025-08-20T02:03:31.688055Z",
     "iopub.status.idle": "2025-08-20T02:03:31.901816Z",
     "shell.execute_reply": "2025-08-20T02:03:31.900974Z",
     "shell.execute_reply.started": "2025-08-20T02:03:31.688598Z"
    }
   },
   "outputs": [
    {
     "data": {
      "text/plain": [
       "['captured_data/26-44-344-10b0f073-2fff-42c6-85b5-98a6d946ad55.jsonl']"
      ]
     },
     "execution_count": 119,
     "metadata": {},
     "output_type": "execute_result"
    }
   ],
   "source": [
    "from sagemaker.s3 import S3Downloader\n",
    "\n",
    "# In S3 your data will be saved to a datetime-aware path\n",
    "# Find a path related to a datetime you're interested in\n",
    "data_path =\"s3://sagemaker-us-east-1-329599635419/data_capture/image-classification-2025-08-20-00-20-41-037/AllTraffic/2025/08/20/00/\"\n",
    "\n",
    "S3Downloader.download(data_path, \"captured_data\")\n",
    "\n",
    "# Feel free to repeat this multiple times and pull in more data"
   ]
  },
  {
   "cell_type": "markdown",
   "metadata": {},
   "source": [
    "The data are in JSONLines format, where multiple valid JSON objects are stacked on top of eachother in a single `jsonl` file. We'll import an open-source library, `jsonlines` that was purpose built for parsing this format."
   ]
  },
  {
   "cell_type": "code",
   "execution_count": 120,
   "metadata": {
    "execution": {
     "iopub.execute_input": "2025-08-20T02:03:33.893674Z",
     "iopub.status.busy": "2025-08-20T02:03:33.892950Z",
     "iopub.status.idle": "2025-08-20T02:03:35.662065Z",
     "shell.execute_reply": "2025-08-20T02:03:35.661232Z",
     "shell.execute_reply.started": "2025-08-20T02:03:33.893647Z"
    }
   },
   "outputs": [
    {
     "name": "stdout",
     "output_type": "stream",
     "text": [
      "Requirement already satisfied: jsonlines in /opt/conda/lib/python3.12/site-packages (4.0.0)\n",
      "Requirement already satisfied: attrs>=19.2.0 in /opt/conda/lib/python3.12/site-packages (from jsonlines) (23.2.0)\n"
     ]
    }
   ],
   "source": [
    "!pip install jsonlines\n",
    "import jsonlines"
   ]
  },
  {
   "cell_type": "markdown",
   "metadata": {},
   "source": [
    "Now we can extract the data from each of the source files:"
   ]
  },
  {
   "cell_type": "code",
   "execution_count": 122,
   "metadata": {
    "execution": {
     "iopub.execute_input": "2025-08-20T02:04:24.044540Z",
     "iopub.status.busy": "2025-08-20T02:04:24.044156Z",
     "iopub.status.idle": "2025-08-20T02:04:24.049271Z",
     "shell.execute_reply": "2025-08-20T02:04:24.048686Z",
     "shell.execute_reply.started": "2025-08-20T02:04:24.044516Z"
    }
   },
   "outputs": [],
   "source": [
    "import os, jsonlines\n",
    "\n",
    "# Only take jsonl files\n",
    "file_handles = [\n",
    "    f for f in os.listdir(\"./captured_data\") if f.endswith(\".jsonl\")\n",
    "]\n",
    "\n",
    "json_data = []\n",
    "for jsonl_file in file_handles:\n",
    "    with jsonlines.open(f\"./captured_data/{jsonl_file}\") as reader:\n",
    "        for obj in reader:   # iterate line by line\n",
    "            json_data.append(obj)"
   ]
  },
  {
   "cell_type": "markdown",
   "metadata": {},
   "source": [
    "The data should now be a list of dictionaries, with significant nesting. We'll give you an example of some code that grabs data out of the objects and visualizes it:"
   ]
  },
  {
   "cell_type": "code",
   "execution_count": 123,
   "metadata": {
    "execution": {
     "iopub.execute_input": "2025-08-20T02:04:27.483754Z",
     "iopub.status.busy": "2025-08-20T02:04:27.483014Z",
     "iopub.status.idle": "2025-08-20T02:04:27.489050Z",
     "shell.execute_reply": "2025-08-20T02:04:27.488296Z",
     "shell.execute_reply.started": "2025-08-20T02:04:27.483728Z"
    }
   },
   "outputs": [
    {
     "data": {
      "text/plain": [
       "([0.9613085389137268, 0.03869148716330528], '2025-08-20T00:26:44Z')"
      ]
     },
     "execution_count": 123,
     "metadata": {},
     "output_type": "execute_result"
    }
   ],
   "source": [
    "# Define how we'll get our data\n",
    "def simple_getter(obj):\n",
    "    inferences = obj[\"captureData\"][\"endpointOutput\"][\"data\"]\n",
    "    timestamp = obj[\"eventMetadata\"][\"inferenceTime\"]\n",
    "    return json.loads(inferences), timestamp\n",
    "\n",
    "simple_getter(json_data[0])"
   ]
  },
  {
   "cell_type": "markdown",
   "metadata": {},
   "source": [
    "Finally, here's an example of a visualization you can build with this data. In this last part, you will take some time and build your own - the captured data has the input images, the resulting inferences, and the timestamps."
   ]
  },
  {
   "cell_type": "code",
   "execution_count": 124,
   "metadata": {
    "execution": {
     "iopub.execute_input": "2025-08-20T02:04:31.933412Z",
     "iopub.status.busy": "2025-08-20T02:04:31.933130Z",
     "iopub.status.idle": "2025-08-20T02:04:32.141608Z",
     "shell.execute_reply": "2025-08-20T02:04:32.140737Z",
     "shell.execute_reply.started": "2025-08-20T02:04:31.933392Z"
    }
   },
   "outputs": [
    {
     "name": "stderr",
     "output_type": "stream",
     "text": [
      "INFO:matplotlib.category:Using categorical units to plot a list of strings that are all parsable as floats or dates. If these strings should be plotted as numbers, cast to the appropriate data type before plotting.\n",
      "INFO:matplotlib.category:Using categorical units to plot a list of strings that are all parsable as floats or dates. If these strings should be plotted as numbers, cast to the appropriate data type before plotting.\n"
     ]
    },
    {
     "data": {
      "image/png": "[encoded data removed]",
      "text/plain": [
       "<Figure size 640x480 with 1 Axes>"
      ]
     },
     "metadata": {},
     "output_type": "display_data"
    }
   ],
   "source": [
    "# Populate the data for the x and y axis\n",
    "x = []\n",
    "y = []\n",
    "for obj in json_data:\n",
    "    inference, timestamp = simple_getter(obj)\n",
    "    \n",
    "    y.append(max(inference))\n",
    "    x.append(timestamp)\n",
    "\n",
    "# Todo: here is an visualization example, take some time to build another visual that helps monitor the result\n",
    "# Plot the data\n",
    "plt.scatter(x, y, c=['r' if k<.94 else 'b' for k in y ])\n",
    "plt.axhline(y=0.94, color='g', linestyle='--')\n",
    "plt.ylim(bottom=.88)\n",
    "\n",
    "# Add labels\n",
    "plt.ylabel(\"Confidence\")\n",
    "plt.suptitle(\"Observed Recent Inferences\", size=14)\n",
    "plt.title(\"Pictured with confidence threshold for production use\", size=10)\n",
    "\n",
    "# Give it some pizzaz!\n",
    "plt.style.use(\"Solarize_Light2\")\n",
    "plt.gcf().autofmt_xdate()"
   ]
  },
  {
   "cell_type": "markdown",
   "metadata": {},
   "source": [
    "### Todo: build your own visualization\n"
   ]
  },
  {
   "cell_type": "markdown",
   "metadata": {},
   "source": [
    "### Congratulations!\n",
    "\n",
    "You've reached the end of the project. In this project you created an event-drivent ML workflow that can be incorporated into the Scones Unlimited production architecture. You used the SageMaker Estimator API to deploy your SageMaker Model and Endpoint, and you used AWS Lambda and Step Functions to orchestrate your ML workflow. Using SageMaker Model Monitor, you instrumented and observed your Endpoint, and at the end of the project you built a visualization to help stakeholders understand the performance of the Endpoint over time. If you're up for it, you can even go further with these stretch goals:\n",
    "\n",
    "* Extend your workflow to incorporate more classes: the CIFAR dataset includes other vehicles that Scones Unlimited can identify with this model.\n",
    "* Modify your event driven workflow: can you rewrite your Lambda functions so that the workflow can process multiple image inputs in parallel? Can the Step Function \"fan out\" to accomodate this new workflow?\n",
    "* Consider the test data generator we provided for you. Can we use it to create a \"dummy data\" generator, to simulate a continuous stream of input data? Or a big paralell load of data?\n",
    "* What if we want to get notified every time our step function errors out? Can we use the Step Functions visual editor in conjunction with a service like SNS to accomplish this? Try it out!\n",
    "\n",
    "\n"
   ]
  }
 ],
 "metadata": {
  "instance_type": "ml.t3.medium",
  "kernelspec": {
   "display_name": "Python 3 (ipykernel)",
   "language": "python",
   "name": "python3"
  },
  "language_info": {
   "codemirror_mode": {
    "name": "ipython",
    "version": 3
   },
   "file_extension": ".py",
   "mimetype": "text/x-python",
   "name": "python",
   "nbconvert_exporter": "python",
   "pygments_lexer": "ipython3",
   "version": "3.12.9"
  }
 },
 "nbformat": 4,
 "nbformat_minor": 4
}
